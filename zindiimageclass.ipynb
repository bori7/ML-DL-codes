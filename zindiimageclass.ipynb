{
  "nbformat": 4,
  "nbformat_minor": 0,
  "metadata": {
    "colab": {
      "name": "zindiimageclass.ipynb",
      "provenance": [],
      "toc_visible": true,
      "mount_file_id": "1Mli7P0Y5JZI3TyVE_5M_5h8rMHaY16qF",
      "authorship_tag": "ABX9TyMGE3znqxYDgiUQsFX5Wpkv",
      "include_colab_link": true
    },
    "kernelspec": {
      "name": "python3",
      "display_name": "Python 3"
    }
  },
  "cells": [
    {
      "cell_type": "markdown",
      "metadata": {
        "id": "view-in-github",
        "colab_type": "text"
      },
      "source": [
        "<a href=\"https://colab.research.google.com/github/bori7/ML-DL-codes/blob/master/zindiimageclass.ipynb\" target=\"_parent\"><img src=\"https://colab.research.google.com/assets/colab-badge.svg\" alt=\"Open In Colab\"/></a>"
      ]
    },
    {
      "cell_type": "code",
      "metadata": {
        "id": "RviHtcbg7l4G",
        "colab_type": "code",
        "colab": {}
      },
      "source": [
        "import pandas as pd\n",
        "#url = \"https://api.zindi.africa/v1/competitions/cmu-africa-data-science-club-challenge-1-computer-vision-for-image-classification/files/train.csv\" "
      ],
      "execution_count": 0,
      "outputs": []
    },
    {
      "cell_type": "code",
      "metadata": {
        "id": "0hEPz1zeNR48",
        "colab_type": "code",
        "outputId": "fa7e2b9f-cee5-4f18-8d83-d4c8262a516b",
        "colab": {
          "resources": {
            "http://localhost:8080/nbextensions/google.colab/files.js": {
              "data": "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",
              "ok": true,
              "headers": [
                [
                  "content-type",
                  "application/javascript"
                ]
              ],
              "status": 200,
              "status_text": ""
            }
          },
          "base_uri": "https://localhost:8080/",
          "height": 143
        }
      },
      "source": [
        "\n",
        "from google.colab import files\n",
        "uploaded = files.upload()"
      ],
      "execution_count": 0,
      "outputs": [
        {
          "output_type": "display_data",
          "data": {
            "text/html": [
              "\n",
              "     <input type=\"file\" id=\"files-0edf831e-5c1e-43bc-b236-c4df25b99ec3\" name=\"files[]\" multiple disabled />\n",
              "     <output id=\"result-0edf831e-5c1e-43bc-b236-c4df25b99ec3\">\n",
              "      Upload widget is only available when the cell has been executed in the\n",
              "      current browser session. Please rerun this cell to enable.\n",
              "      </output>\n",
              "      <script src=\"/nbextensions/google.colab/files.js\"></script> "
            ],
            "text/plain": [
              "<IPython.core.display.HTML object>"
            ]
          },
          "metadata": {
            "tags": []
          }
        },
        {
          "output_type": "stream",
          "text": [
            "Saving sample_submission_fixed.csv to sample_submission_fixed.csv\n",
            "Saving test.csv to test.csv\n",
            "Saving train (2).csv to train (2).csv\n"
          ],
          "name": "stdout"
        }
      ]
    },
    {
      "cell_type": "code",
      "metadata": {
        "id": "rsINzRdsS_32",
        "colab_type": "code",
        "colab": {}
      },
      "source": [
        "df1 = pd.read_csv('train (2).csv')"
      ],
      "execution_count": 0,
      "outputs": []
    },
    {
      "cell_type": "code",
      "metadata": {
        "id": "96BXTpVcUgsK",
        "colab_type": "code",
        "outputId": "c944312c-85cf-4a32-df50-73085c92aef3",
        "colab": {
          "base_uri": "https://localhost:8080/",
          "height": 267
        }
      },
      "source": [
        "df1.head()"
      ],
      "execution_count": 0,
      "outputs": [
        {
          "output_type": "execute_result",
          "data": {
            "text/html": [
              "<div>\n",
              "<style scoped>\n",
              "    .dataframe tbody tr th:only-of-type {\n",
              "        vertical-align: middle;\n",
              "    }\n",
              "\n",
              "    .dataframe tbody tr th {\n",
              "        vertical-align: top;\n",
              "    }\n",
              "\n",
              "    .dataframe thead th {\n",
              "        text-align: right;\n",
              "    }\n",
              "</style>\n",
              "<table border=\"1\" class=\"dataframe\">\n",
              "  <thead>\n",
              "    <tr style=\"text-align: right;\">\n",
              "      <th></th>\n",
              "      <th>REGION-CENTROID-COL</th>\n",
              "      <th>REGION-CENTROID-ROW</th>\n",
              "      <th>REGION-PIXEL-COUNT</th>\n",
              "      <th>SHORT-LINE-DENSITY-5</th>\n",
              "      <th>SHORT-LINE-DENSITY-2</th>\n",
              "      <th>VEDGE-MEAN</th>\n",
              "      <th>VEDGE-SD</th>\n",
              "      <th>HEDGE-MEAN</th>\n",
              "      <th>HEDGE-SD</th>\n",
              "      <th>INTENSITY-MEAN</th>\n",
              "      <th>RAWRED-MEAN</th>\n",
              "      <th>RAWBLUE-MEAN</th>\n",
              "      <th>RAWGREEN-MEAN</th>\n",
              "      <th>EXRED-MEAN</th>\n",
              "      <th>EXBLUE-MEAN</th>\n",
              "      <th>EXGREEN-MEAN</th>\n",
              "      <th>VALUE-MEAN</th>\n",
              "      <th>SATURATION-MEAN</th>\n",
              "      <th>HUE-MEAN</th>\n",
              "      <th>CLASS</th>\n",
              "    </tr>\n",
              "  </thead>\n",
              "  <tbody>\n",
              "    <tr>\n",
              "      <th>0</th>\n",
              "      <td>123.0</td>\n",
              "      <td>152.0</td>\n",
              "      <td>9</td>\n",
              "      <td>0.0</td>\n",
              "      <td>0.0</td>\n",
              "      <td>0.000000</td>\n",
              "      <td>0.000000</td>\n",
              "      <td>0.000000</td>\n",
              "      <td>0.000000</td>\n",
              "      <td>0.000000</td>\n",
              "      <td>0.000000</td>\n",
              "      <td>0.000000</td>\n",
              "      <td>0.000000</td>\n",
              "      <td>0.000000</td>\n",
              "      <td>0.000000</td>\n",
              "      <td>0.000000</td>\n",
              "      <td>0.000000</td>\n",
              "      <td>0.000000</td>\n",
              "      <td>0.000000</td>\n",
              "      <td>0</td>\n",
              "    </tr>\n",
              "    <tr>\n",
              "      <th>1</th>\n",
              "      <td>226.0</td>\n",
              "      <td>110.0</td>\n",
              "      <td>9</td>\n",
              "      <td>0.0</td>\n",
              "      <td>0.0</td>\n",
              "      <td>0.333333</td>\n",
              "      <td>0.088889</td>\n",
              "      <td>0.500000</td>\n",
              "      <td>0.211111</td>\n",
              "      <td>1.666667</td>\n",
              "      <td>0.111111</td>\n",
              "      <td>4.444445</td>\n",
              "      <td>0.444444</td>\n",
              "      <td>-4.666666</td>\n",
              "      <td>8.333333</td>\n",
              "      <td>-3.666667</td>\n",
              "      <td>4.444445</td>\n",
              "      <td>0.977778</td>\n",
              "      <td>-2.155984</td>\n",
              "      <td>1</td>\n",
              "    </tr>\n",
              "    <tr>\n",
              "      <th>2</th>\n",
              "      <td>121.0</td>\n",
              "      <td>60.0</td>\n",
              "      <td>9</td>\n",
              "      <td>0.0</td>\n",
              "      <td>0.0</td>\n",
              "      <td>2.277778</td>\n",
              "      <td>2.329629</td>\n",
              "      <td>2.888889</td>\n",
              "      <td>2.874074</td>\n",
              "      <td>26.740740</td>\n",
              "      <td>24.666666</td>\n",
              "      <td>35.222220</td>\n",
              "      <td>20.333334</td>\n",
              "      <td>-6.222222</td>\n",
              "      <td>25.444445</td>\n",
              "      <td>-19.222221</td>\n",
              "      <td>35.222220</td>\n",
              "      <td>0.422300</td>\n",
              "      <td>-1.776113</td>\n",
              "      <td>2</td>\n",
              "    </tr>\n",
              "    <tr>\n",
              "      <th>3</th>\n",
              "      <td>96.0</td>\n",
              "      <td>84.0</td>\n",
              "      <td>9</td>\n",
              "      <td>0.0</td>\n",
              "      <td>0.0</td>\n",
              "      <td>1.500000</td>\n",
              "      <td>1.277777</td>\n",
              "      <td>1.611111</td>\n",
              "      <td>2.285188</td>\n",
              "      <td>23.851852</td>\n",
              "      <td>23.555555</td>\n",
              "      <td>30.000000</td>\n",
              "      <td>18.000000</td>\n",
              "      <td>-0.888889</td>\n",
              "      <td>18.444445</td>\n",
              "      <td>-17.555555</td>\n",
              "      <td>30.000000</td>\n",
              "      <td>0.398791</td>\n",
              "      <td>-1.598867</td>\n",
              "      <td>2</td>\n",
              "    </tr>\n",
              "    <tr>\n",
              "      <th>4</th>\n",
              "      <td>103.0</td>\n",
              "      <td>64.0</td>\n",
              "      <td>9</td>\n",
              "      <td>0.0</td>\n",
              "      <td>0.0</td>\n",
              "      <td>0.666667</td>\n",
              "      <td>0.699205</td>\n",
              "      <td>1.333331</td>\n",
              "      <td>0.918936</td>\n",
              "      <td>108.777780</td>\n",
              "      <td>96.333336</td>\n",
              "      <td>126.222220</td>\n",
              "      <td>103.777780</td>\n",
              "      <td>-37.333332</td>\n",
              "      <td>52.333332</td>\n",
              "      <td>-15.000000</td>\n",
              "      <td>126.222220</td>\n",
              "      <td>0.236797</td>\n",
              "      <td>-2.355443</td>\n",
              "      <td>3</td>\n",
              "    </tr>\n",
              "  </tbody>\n",
              "</table>\n",
              "</div>"
            ],
            "text/plain": [
              "   REGION-CENTROID-COL  REGION-CENTROID-ROW  ...  HUE-MEAN  CLASS\n",
              "0                123.0                152.0  ...  0.000000      0\n",
              "1                226.0                110.0  ... -2.155984      1\n",
              "2                121.0                 60.0  ... -1.776113      2\n",
              "3                 96.0                 84.0  ... -1.598867      2\n",
              "4                103.0                 64.0  ... -2.355443      3\n",
              "\n",
              "[5 rows x 20 columns]"
            ]
          },
          "metadata": {
            "tags": []
          },
          "execution_count": 5
        }
      ]
    },
    {
      "cell_type": "code",
      "metadata": {
        "id": "r3ereGHMUsOc",
        "colab_type": "code",
        "outputId": "dfa55f73-1192-4169-9a43-3787aad2cfc6",
        "colab": {
          "base_uri": "https://localhost:8080/",
          "height": 1000
        }
      },
      "source": [
        "# Code to read csv file into Colaboratory:\n",
        "!pip install -U -q PyDrive\n",
        "from pydrive.auth import GoogleAuth\n",
        "from pydrive.drive import GoogleDrive\n",
        "from google.colab import auth\n",
        "from oauth2client.client import GoogleCredentials\n",
        "# Authenticate and create the PyDrive client.\n",
        "auth.authenticate_user()\n",
        "gauth = GoogleAuth()\n",
        "gauth.credentials = GoogleCredentials.get_application_default()\n",
        "drive = GoogleDrive(gauth)"
      ],
      "execution_count": 0,
      "outputs": [
        {
          "output_type": "stream",
          "text": [
            "\u001b[31mERROR: Operation cancelled by user\u001b[0m\n",
            "Traceback (most recent call last):\n",
            "  File \"/usr/local/lib/python3.6/dist-packages/pip/_vendor/pkg_resources/__init__.py\", line 3021, in _dep_map\n",
            "    return self.__dep_map\n",
            "  File \"/usr/local/lib/python3.6/dist-packages/pip/_vendor/pkg_resources/__init__.py\", line 2815, in __getattr__\n",
            "    raise AttributeError(attr)\n",
            "AttributeError: _DistInfoDistribution__dep_map\n",
            "\n",
            "During handling of the above exception, another exception occurred:\n",
            "\n",
            "Traceback (most recent call last):\n",
            "  File \"/usr/local/lib/python3.6/dist-packages/pip/_internal/cli/base_command.py\", line 153, in _main\n",
            "    status = self.run(options, args)\n",
            "  File \"/usr/local/lib/python3.6/dist-packages/pip/_internal/commands/install.py\", line 438, in run\n",
            "    self._warn_about_conflicts(to_install)\n",
            "  File \"/usr/local/lib/python3.6/dist-packages/pip/_internal/commands/install.py\", line 568, in _warn_about_conflicts\n",
            "    package_set, _dep_info = check_install_conflicts(to_install)\n",
            "  File \"/usr/local/lib/python3.6/dist-packages/pip/_internal/operations/check.py\", line 114, in check_install_conflicts\n",
            "    package_set, _ = create_package_set_from_installed()\n",
            "  File \"/usr/local/lib/python3.6/dist-packages/pip/_internal/operations/check.py\", line 53, in create_package_set_from_installed\n",
            "    package_set[name] = PackageDetails(dist.version, dist.requires())\n",
            "  File \"/usr/local/lib/python3.6/dist-packages/pip/_vendor/pkg_resources/__init__.py\", line 2736, in requires\n",
            "    dm = self._dep_map\n",
            "  File \"/usr/local/lib/python3.6/dist-packages/pip/_vendor/pkg_resources/__init__.py\", line 3023, in _dep_map\n",
            "    self.__dep_map = self._compute_dependencies()\n",
            "  File \"/usr/local/lib/python3.6/dist-packages/pip/_vendor/pkg_resources/__init__.py\", line 3033, in _compute_dependencies\n",
            "    reqs.extend(parse_requirements(req))\n",
            "  File \"/usr/local/lib/python3.6/dist-packages/pip/_vendor/pkg_resources/__init__.py\", line 3094, in parse_requirements\n",
            "    yield Requirement(line)\n",
            "  File \"/usr/local/lib/python3.6/dist-packages/pip/_vendor/pkg_resources/__init__.py\", line 3101, in __init__\n",
            "    super(Requirement, self).__init__(requirement_string)\n",
            "  File \"/usr/local/lib/python3.6/dist-packages/pip/_vendor/packaging/requirements.py\", line 93, in __init__\n",
            "    req = REQUIREMENT.parseString(requirement_string)\n",
            "  File \"/usr/local/lib/python3.6/dist-packages/pip/_vendor/pyparsing.py\", line 1929, in parseString\n",
            "    loc, tokens = self._parse(instring, 0)\n",
            "  File \"/usr/local/lib/python3.6/dist-packages/pip/_vendor/pyparsing.py\", line 1669, in _parseNoCache\n",
            "    loc, tokens = self.parseImpl(instring, preloc, doActions)\n",
            "  File \"/usr/local/lib/python3.6/dist-packages/pip/_vendor/pyparsing.py\", line 4037, in parseImpl\n",
            "    loc, exprtokens = e._parse(instring, loc, doActions)\n",
            "  File \"/usr/local/lib/python3.6/dist-packages/pip/_vendor/pyparsing.py\", line 1669, in _parseNoCache\n",
            "    loc, tokens = self.parseImpl(instring, preloc, doActions)\n",
            "  File \"/usr/local/lib/python3.6/dist-packages/pip/_vendor/pyparsing.py\", line 4222, in parseImpl\n",
            "    ret = e._parse(instring, loc, doActions)\n",
            "  File \"/usr/local/lib/python3.6/dist-packages/pip/_vendor/pyparsing.py\", line 1669, in _parseNoCache\n",
            "    loc, tokens = self.parseImpl(instring, preloc, doActions)\n",
            "  File \"/usr/local/lib/python3.6/dist-packages/pip/_vendor/pyparsing.py\", line 4037, in parseImpl\n",
            "    loc, exprtokens = e._parse(instring, loc, doActions)\n",
            "  File \"/usr/local/lib/python3.6/dist-packages/pip/_vendor/pyparsing.py\", line 1669, in _parseNoCache\n",
            "    loc, tokens = self.parseImpl(instring, preloc, doActions)\n",
            "  File \"/usr/local/lib/python3.6/dist-packages/pip/_vendor/pyparsing.py\", line 4817, in parseImpl\n",
            "    loc, tokens = self.expr._parse(instring, loc, doActions, callPreParse=False)\n",
            "  File \"/usr/local/lib/python3.6/dist-packages/pip/_vendor/pyparsing.py\", line 1669, in _parseNoCache\n",
            "    loc, tokens = self.parseImpl(instring, preloc, doActions)\n",
            "  File \"/usr/local/lib/python3.6/dist-packages/pip/_vendor/pyparsing.py\", line 4037, in parseImpl\n",
            "    loc, exprtokens = e._parse(instring, loc, doActions)\n",
            "  File \"/usr/local/lib/python3.6/dist-packages/pip/_vendor/pyparsing.py\", line 1702, in _parseNoCache\n",
            "    tokens = fn(instring, tokensStart, retTokens)\n",
            "  File \"/usr/local/lib/python3.6/dist-packages/pip/_vendor/pyparsing.py\", line 1308, in wrapper\n",
            "    ret = func(*args[limit[0]:])\n",
            "  File \"/usr/local/lib/python3.6/dist-packages/pip/_vendor/packaging/requirements.py\", line 62, in <lambda>\n",
            "    lambda s, l, t: Marker(s[t._original_start : t._original_end])\n",
            "  File \"/usr/local/lib/python3.6/dist-packages/pip/_vendor/packaging/markers.py\", line 270, in __init__\n",
            "    self._markers = _coerce_parse_result(MARKER.parseString(marker))\n",
            "  File \"/usr/local/lib/python3.6/dist-packages/pip/_vendor/pyparsing.py\", line 1929, in parseString\n",
            "    loc, tokens = self._parse(instring, 0)\n",
            "  File \"/usr/local/lib/python3.6/dist-packages/pip/_vendor/pyparsing.py\", line 1669, in _parseNoCache\n",
            "    loc, tokens = self.parseImpl(instring, preloc, doActions)\n",
            "  File \"/usr/local/lib/python3.6/dist-packages/pip/_vendor/pyparsing.py\", line 4037, in parseImpl\n",
            "    loc, exprtokens = e._parse(instring, loc, doActions)\n",
            "  File \"/usr/local/lib/python3.6/dist-packages/pip/_vendor/pyparsing.py\", line 1677, in _parseNoCache\n",
            "    retTokens = ParseResults(tokens, self.resultsName, asList=self.saveAsList, modal=self.modalResults)\n",
            "  File \"/usr/local/lib/python3.6/dist-packages/pip/_vendor/pyparsing.py\", line 546, in __init__\n",
            "    def __init__(self, toklist=None, name=None, asList=True, modal=True, isinstance=isinstance):\n",
            "KeyboardInterrupt\n",
            "\n",
            "During handling of the above exception, another exception occurred:\n",
            "\n",
            "Traceback (most recent call last):\n",
            "  File \"/usr/local/bin/pip3\", line 8, in <module>\n",
            "    sys.exit(main())\n",
            "  File \"/usr/local/lib/python3.6/dist-packages/pip/_internal/main.py\", line 47, in main\n",
            "    return command.main(cmd_args)\n",
            "  File \"/usr/local/lib/python3.6/dist-packages/pip/_internal/cli/base_command.py\", line 103, in main\n",
            "    return self._main(args)\n",
            "  File \"/usr/local/lib/python3.6/dist-packages/pip/_internal/cli/base_command.py\", line 183, in _main\n",
            "    logger.debug('Exception information:', exc_info=True)\n",
            "  File \"/usr/lib/python3.6/logging/__init__.py\", line 1296, in debug\n",
            "    self._log(DEBUG, msg, args, **kwargs)\n",
            "  File \"/usr/lib/python3.6/logging/__init__.py\", line 1444, in _log\n",
            "    self.handle(record)\n",
            "  File \"/usr/lib/python3.6/logging/__init__.py\", line 1454, in handle\n",
            "    self.callHandlers(record)\n",
            "  File \"/usr/lib/python3.6/logging/__init__.py\", line 1516, in callHandlers\n",
            "    hdlr.handle(record)\n",
            "  File \"/usr/lib/python3.6/logging/__init__.py\", line 865, in handle\n",
            "    self.emit(record)\n",
            "  File \"/usr/lib/python3.6/logging/handlers.py\", line 73, in emit\n",
            "    logging.FileHandler.emit(self, record)\n",
            "  File \"/usr/lib/python3.6/logging/__init__.py\", line 1072, in emit\n",
            "    StreamHandler.emit(self, record)\n",
            "  File \"/usr/lib/python3.6/logging/__init__.py\", line 994, in emit\n",
            "    msg = self.format(record)\n",
            "  File \"/usr/lib/python3.6/logging/__init__.py\", line 840, in format\n",
            "    return fmt.format(record)\n",
            "  File \"/usr/local/lib/python3.6/dist-packages/pip/_internal/utils/logging.py\", line 151, in format\n",
            "    formatted = super(IndentingFormatter, self).format(record)\n",
            "  File \"/usr/lib/python3.6/logging/__init__.py\", line 585, in format\n",
            "    record.exc_text = self.formatException(record.exc_info)\n",
            "  File \"/usr/lib/python3.6/logging/__init__.py\", line 535, in formatException\n",
            "    traceback.print_exception(ei[0], ei[1], tb, None, sio)\n",
            "  File \"/usr/lib/python3.6/traceback.py\", line 104, in print_exception\n",
            "    type(value), value, tb, limit=limit).format(chain=chain):\n",
            "  File \"/usr/lib/python3.6/traceback.py\", line 509, in __init__\n",
            "    capture_locals=capture_locals)\n",
            "  File \"/usr/lib/python3.6/traceback.py\", line 364, in extract\n",
            "    f.line\n",
            "  File \"/usr/lib/python3.6/traceback.py\", line 286, in line\n",
            "    self._line = linecache.getline(self.filename, self.lineno).strip()\n",
            "  File \"/usr/lib/python3.6/linecache.py\", line 16, in getline\n",
            "    lines = getlines(filename, module_globals)\n",
            "  File \"/usr/lib/python3.6/linecache.py\", line 47, in getlines\n",
            "    return updatecache(filename, module_globals)\n",
            "  File \"/usr/lib/python3.6/linecache.py\", line 136, in updatecache\n",
            "    with tokenize.open(fullname) as fp:\n",
            "  File \"/usr/lib/python3.6/tokenize.py\", line 454, in open\n",
            "    encoding, lines = detect_encoding(buffer.readline)\n",
            "  File \"/usr/lib/python3.6/tokenize.py\", line 423, in detect_encoding\n",
            "    first = read_or_stop()\n",
            "  File \"/usr/lib/python3.6/tokenize.py\", line 381, in read_or_stop\n",
            "    return readline()\n",
            "KeyboardInterrupt\n"
          ],
          "name": "stdout"
        },
        {
          "output_type": "error",
          "ename": "KeyboardInterrupt",
          "evalue": "ignored",
          "traceback": [
            "\u001b[0;31m---------------------------------------------------------------------------\u001b[0m",
            "\u001b[0;31mKeyboardInterrupt\u001b[0m                         Traceback (most recent call last)",
            "\u001b[0;32m/usr/local/lib/python3.6/dist-packages/ipykernel/kernelbase.py\u001b[0m in \u001b[0;36m_input_request\u001b[0;34m(self, prompt, ident, parent, password)\u001b[0m\n\u001b[1;32m    729\u001b[0m             \u001b[0;32mtry\u001b[0m\u001b[0;34m:\u001b[0m\u001b[0;34m\u001b[0m\u001b[0;34m\u001b[0m\u001b[0m\n\u001b[0;32m--> 730\u001b[0;31m                 \u001b[0mident\u001b[0m\u001b[0;34m,\u001b[0m \u001b[0mreply\u001b[0m \u001b[0;34m=\u001b[0m \u001b[0mself\u001b[0m\u001b[0;34m.\u001b[0m\u001b[0msession\u001b[0m\u001b[0;34m.\u001b[0m\u001b[0mrecv\u001b[0m\u001b[0;34m(\u001b[0m\u001b[0mself\u001b[0m\u001b[0;34m.\u001b[0m\u001b[0mstdin_socket\u001b[0m\u001b[0;34m,\u001b[0m \u001b[0;36m0\u001b[0m\u001b[0;34m)\u001b[0m\u001b[0;34m\u001b[0m\u001b[0;34m\u001b[0m\u001b[0m\n\u001b[0m\u001b[1;32m    731\u001b[0m             \u001b[0;32mexcept\u001b[0m \u001b[0mException\u001b[0m\u001b[0;34m:\u001b[0m\u001b[0;34m\u001b[0m\u001b[0;34m\u001b[0m\u001b[0m\n",
            "\u001b[0;32m/usr/local/lib/python3.6/dist-packages/jupyter_client/session.py\u001b[0m in \u001b[0;36mrecv\u001b[0;34m(self, socket, mode, content, copy)\u001b[0m\n\u001b[1;32m    802\u001b[0m         \u001b[0;32mtry\u001b[0m\u001b[0;34m:\u001b[0m\u001b[0;34m\u001b[0m\u001b[0;34m\u001b[0m\u001b[0m\n\u001b[0;32m--> 803\u001b[0;31m             \u001b[0mmsg_list\u001b[0m \u001b[0;34m=\u001b[0m \u001b[0msocket\u001b[0m\u001b[0;34m.\u001b[0m\u001b[0mrecv_multipart\u001b[0m\u001b[0;34m(\u001b[0m\u001b[0mmode\u001b[0m\u001b[0;34m,\u001b[0m \u001b[0mcopy\u001b[0m\u001b[0;34m=\u001b[0m\u001b[0mcopy\u001b[0m\u001b[0;34m)\u001b[0m\u001b[0;34m\u001b[0m\u001b[0;34m\u001b[0m\u001b[0m\n\u001b[0m\u001b[1;32m    804\u001b[0m         \u001b[0;32mexcept\u001b[0m \u001b[0mzmq\u001b[0m\u001b[0;34m.\u001b[0m\u001b[0mZMQError\u001b[0m \u001b[0;32mas\u001b[0m \u001b[0me\u001b[0m\u001b[0;34m:\u001b[0m\u001b[0;34m\u001b[0m\u001b[0;34m\u001b[0m\u001b[0m\n",
            "\u001b[0;32m/usr/local/lib/python3.6/dist-packages/zmq/sugar/socket.py\u001b[0m in \u001b[0;36mrecv_multipart\u001b[0;34m(self, flags, copy, track)\u001b[0m\n\u001b[1;32m    465\u001b[0m         \"\"\"\n\u001b[0;32m--> 466\u001b[0;31m         \u001b[0mparts\u001b[0m \u001b[0;34m=\u001b[0m \u001b[0;34m[\u001b[0m\u001b[0mself\u001b[0m\u001b[0;34m.\u001b[0m\u001b[0mrecv\u001b[0m\u001b[0;34m(\u001b[0m\u001b[0mflags\u001b[0m\u001b[0;34m,\u001b[0m \u001b[0mcopy\u001b[0m\u001b[0;34m=\u001b[0m\u001b[0mcopy\u001b[0m\u001b[0;34m,\u001b[0m \u001b[0mtrack\u001b[0m\u001b[0;34m=\u001b[0m\u001b[0mtrack\u001b[0m\u001b[0;34m)\u001b[0m\u001b[0;34m]\u001b[0m\u001b[0;34m\u001b[0m\u001b[0;34m\u001b[0m\u001b[0m\n\u001b[0m\u001b[1;32m    467\u001b[0m         \u001b[0;31m# have first part already, only loop while more to receive\u001b[0m\u001b[0;34m\u001b[0m\u001b[0;34m\u001b[0m\u001b[0;34m\u001b[0m\u001b[0m\n",
            "\u001b[0;32mzmq/backend/cython/socket.pyx\u001b[0m in \u001b[0;36mzmq.backend.cython.socket.Socket.recv\u001b[0;34m()\u001b[0m\n",
            "\u001b[0;32mzmq/backend/cython/socket.pyx\u001b[0m in \u001b[0;36mzmq.backend.cython.socket.Socket.recv\u001b[0;34m()\u001b[0m\n",
            "\u001b[0;32mzmq/backend/cython/socket.pyx\u001b[0m in \u001b[0;36mzmq.backend.cython.socket._recv_copy\u001b[0;34m()\u001b[0m\n",
            "\u001b[0;32m/usr/local/lib/python3.6/dist-packages/zmq/backend/cython/checkrc.pxd\u001b[0m in \u001b[0;36mzmq.backend.cython.checkrc._check_rc\u001b[0;34m()\u001b[0m\n",
            "\u001b[0;31mKeyboardInterrupt\u001b[0m: ",
            "\nDuring handling of the above exception, another exception occurred:\n",
            "\u001b[0;31mKeyboardInterrupt\u001b[0m                         Traceback (most recent call last)",
            "\u001b[0;32m<ipython-input-7-6beb6b456bb8>\u001b[0m in \u001b[0;36m<module>\u001b[0;34m()\u001b[0m\n\u001b[1;32m      5\u001b[0m \u001b[0;32mfrom\u001b[0m \u001b[0moauth2client\u001b[0m\u001b[0;34m.\u001b[0m\u001b[0mclient\u001b[0m \u001b[0;32mimport\u001b[0m \u001b[0mGoogleCredentials\u001b[0m\u001b[0;34m\u001b[0m\u001b[0;34m\u001b[0m\u001b[0m\n\u001b[1;32m      6\u001b[0m \u001b[0;31m# Authenticate and create the PyDrive client.\u001b[0m\u001b[0;34m\u001b[0m\u001b[0;34m\u001b[0m\u001b[0;34m\u001b[0m\u001b[0m\n\u001b[0;32m----> 7\u001b[0;31m \u001b[0mauth\u001b[0m\u001b[0;34m.\u001b[0m\u001b[0mauthenticate_user\u001b[0m\u001b[0;34m(\u001b[0m\u001b[0;34m)\u001b[0m\u001b[0;34m\u001b[0m\u001b[0;34m\u001b[0m\u001b[0m\n\u001b[0m\u001b[1;32m      8\u001b[0m \u001b[0mgauth\u001b[0m \u001b[0;34m=\u001b[0m \u001b[0mGoogleAuth\u001b[0m\u001b[0;34m(\u001b[0m\u001b[0;34m)\u001b[0m\u001b[0;34m\u001b[0m\u001b[0;34m\u001b[0m\u001b[0m\n\u001b[1;32m      9\u001b[0m \u001b[0mgauth\u001b[0m\u001b[0;34m.\u001b[0m\u001b[0mcredentials\u001b[0m \u001b[0;34m=\u001b[0m \u001b[0mGoogleCredentials\u001b[0m\u001b[0;34m.\u001b[0m\u001b[0mget_application_default\u001b[0m\u001b[0;34m(\u001b[0m\u001b[0;34m)\u001b[0m\u001b[0;34m\u001b[0m\u001b[0;34m\u001b[0m\u001b[0m\n",
            "\u001b[0;32m/usr/local/lib/python3.6/dist-packages/google/colab/auth.py\u001b[0m in \u001b[0;36mauthenticate_user\u001b[0;34m(clear_output)\u001b[0m\n\u001b[1;32m    145\u001b[0m     \u001b[0mcontext_manager\u001b[0m \u001b[0;34m=\u001b[0m \u001b[0m_output\u001b[0m\u001b[0;34m.\u001b[0m\u001b[0mtemporary\u001b[0m \u001b[0;32mif\u001b[0m \u001b[0mclear_output\u001b[0m \u001b[0;32melse\u001b[0m \u001b[0m_noop\u001b[0m\u001b[0;34m\u001b[0m\u001b[0;34m\u001b[0m\u001b[0m\n\u001b[1;32m    146\u001b[0m     \u001b[0;32mwith\u001b[0m \u001b[0mcontext_manager\u001b[0m\u001b[0;34m(\u001b[0m\u001b[0;34m)\u001b[0m\u001b[0;34m:\u001b[0m\u001b[0;34m\u001b[0m\u001b[0;34m\u001b[0m\u001b[0m\n\u001b[0;32m--> 147\u001b[0;31m       \u001b[0m_gcloud_login\u001b[0m\u001b[0;34m(\u001b[0m\u001b[0;34m)\u001b[0m\u001b[0;34m\u001b[0m\u001b[0;34m\u001b[0m\u001b[0m\n\u001b[0m\u001b[1;32m    148\u001b[0m     \u001b[0m_install_adc\u001b[0m\u001b[0;34m(\u001b[0m\u001b[0;34m)\u001b[0m\u001b[0;34m\u001b[0m\u001b[0;34m\u001b[0m\u001b[0m\n\u001b[1;32m    149\u001b[0m     \u001b[0mcolab_tpu_addr\u001b[0m \u001b[0;34m=\u001b[0m \u001b[0m_os\u001b[0m\u001b[0;34m.\u001b[0m\u001b[0menviron\u001b[0m\u001b[0;34m.\u001b[0m\u001b[0mget\u001b[0m\u001b[0;34m(\u001b[0m\u001b[0;34m'COLAB_TPU_ADDR'\u001b[0m\u001b[0;34m,\u001b[0m \u001b[0;34m''\u001b[0m\u001b[0;34m)\u001b[0m\u001b[0;34m\u001b[0m\u001b[0;34m\u001b[0m\u001b[0m\n",
            "\u001b[0;32m/usr/local/lib/python3.6/dist-packages/google/colab/auth.py\u001b[0m in \u001b[0;36m_gcloud_login\u001b[0;34m()\u001b[0m\n\u001b[1;32m     89\u001b[0m     \u001b[0;31m# https://github.com/jupyter/notebook/issues/3159\u001b[0m\u001b[0;34m\u001b[0m\u001b[0;34m\u001b[0m\u001b[0;34m\u001b[0m\u001b[0m\n\u001b[1;32m     90\u001b[0m     \u001b[0mprompt\u001b[0m \u001b[0;34m=\u001b[0m \u001b[0mprompt\u001b[0m\u001b[0;34m.\u001b[0m\u001b[0mrstrip\u001b[0m\u001b[0;34m(\u001b[0m\u001b[0;34m)\u001b[0m\u001b[0;34m\u001b[0m\u001b[0;34m\u001b[0m\u001b[0m\n\u001b[0;32m---> 91\u001b[0;31m     \u001b[0mcode\u001b[0m \u001b[0;34m=\u001b[0m \u001b[0m_getpass\u001b[0m\u001b[0;34m.\u001b[0m\u001b[0mgetpass\u001b[0m\u001b[0;34m(\u001b[0m\u001b[0mprompt\u001b[0m \u001b[0;34m+\u001b[0m \u001b[0;34m'\\n\\nEnter verification code: '\u001b[0m\u001b[0;34m)\u001b[0m\u001b[0;34m\u001b[0m\u001b[0;34m\u001b[0m\u001b[0m\n\u001b[0m\u001b[1;32m     92\u001b[0m     \u001b[0mgcloud_process\u001b[0m\u001b[0;34m.\u001b[0m\u001b[0mcommunicate\u001b[0m\u001b[0;34m(\u001b[0m\u001b[0mcode\u001b[0m\u001b[0;34m.\u001b[0m\u001b[0mstrip\u001b[0m\u001b[0;34m(\u001b[0m\u001b[0;34m)\u001b[0m\u001b[0;34m)\u001b[0m\u001b[0;34m\u001b[0m\u001b[0;34m\u001b[0m\u001b[0m\n\u001b[1;32m     93\u001b[0m   \u001b[0;32mfinally\u001b[0m\u001b[0;34m:\u001b[0m\u001b[0;34m\u001b[0m\u001b[0;34m\u001b[0m\u001b[0m\n",
            "\u001b[0;32m/usr/local/lib/python3.6/dist-packages/ipykernel/kernelbase.py\u001b[0m in \u001b[0;36mgetpass\u001b[0;34m(self, prompt, stream)\u001b[0m\n\u001b[1;32m    686\u001b[0m             \u001b[0mself\u001b[0m\u001b[0;34m.\u001b[0m\u001b[0m_parent_ident\u001b[0m\u001b[0;34m,\u001b[0m\u001b[0;34m\u001b[0m\u001b[0;34m\u001b[0m\u001b[0m\n\u001b[1;32m    687\u001b[0m             \u001b[0mself\u001b[0m\u001b[0;34m.\u001b[0m\u001b[0m_parent_header\u001b[0m\u001b[0;34m,\u001b[0m\u001b[0;34m\u001b[0m\u001b[0;34m\u001b[0m\u001b[0m\n\u001b[0;32m--> 688\u001b[0;31m             \u001b[0mpassword\u001b[0m\u001b[0;34m=\u001b[0m\u001b[0;32mTrue\u001b[0m\u001b[0;34m,\u001b[0m\u001b[0;34m\u001b[0m\u001b[0;34m\u001b[0m\u001b[0m\n\u001b[0m\u001b[1;32m    689\u001b[0m         )\n\u001b[1;32m    690\u001b[0m \u001b[0;34m\u001b[0m\u001b[0m\n",
            "\u001b[0;32m/usr/local/lib/python3.6/dist-packages/ipykernel/kernelbase.py\u001b[0m in \u001b[0;36m_input_request\u001b[0;34m(self, prompt, ident, parent, password)\u001b[0m\n\u001b[1;32m    733\u001b[0m             \u001b[0;32mexcept\u001b[0m \u001b[0mKeyboardInterrupt\u001b[0m\u001b[0;34m:\u001b[0m\u001b[0;34m\u001b[0m\u001b[0;34m\u001b[0m\u001b[0m\n\u001b[1;32m    734\u001b[0m                 \u001b[0;31m# re-raise KeyboardInterrupt, to truncate traceback\u001b[0m\u001b[0;34m\u001b[0m\u001b[0;34m\u001b[0m\u001b[0;34m\u001b[0m\u001b[0m\n\u001b[0;32m--> 735\u001b[0;31m                 \u001b[0;32mraise\u001b[0m \u001b[0mKeyboardInterrupt\u001b[0m\u001b[0;34m\u001b[0m\u001b[0;34m\u001b[0m\u001b[0m\n\u001b[0m\u001b[1;32m    736\u001b[0m             \u001b[0;32melse\u001b[0m\u001b[0;34m:\u001b[0m\u001b[0;34m\u001b[0m\u001b[0;34m\u001b[0m\u001b[0m\n\u001b[1;32m    737\u001b[0m                 \u001b[0;32mbreak\u001b[0m\u001b[0;34m\u001b[0m\u001b[0;34m\u001b[0m\u001b[0m\n",
            "\u001b[0;31mKeyboardInterrupt\u001b[0m: "
          ]
        }
      ]
    },
    {
      "cell_type": "code",
      "metadata": {
        "id": "OfwkbtkMU0bR",
        "colab_type": "code",
        "outputId": "534e35ca-d4eb-4bfc-9b86-35ae6c827c43",
        "colab": {
          "base_uri": "https://localhost:8080/",
          "height": 256
        }
      },
      "source": [
        "link = 'https://drive.google.com/open?id=1TtaGDbPuYiG5Ua-cO--iutakUhFl3SGc'\n",
        "\n",
        "fluff, id = link.split('=')\n",
        "print (id) # Verify that you have everything after '='\n",
        "downloaded = drive.CreateFile({'id':id}) \n",
        "downloaded.GetContentFile('Filename.csv')  \n",
        "df0 = pd.read_csv('Filename.csv')"
      ],
      "execution_count": 0,
      "outputs": [
        {
          "output_type": "stream",
          "text": [
            "1TtaGDbPuYiG5Ua-cO--iutakUhFl3SGc\n"
          ],
          "name": "stdout"
        },
        {
          "output_type": "error",
          "ename": "NameError",
          "evalue": "ignored",
          "traceback": [
            "\u001b[0;31m---------------------------------------------------------------------------\u001b[0m",
            "\u001b[0;31mNameError\u001b[0m                                 Traceback (most recent call last)",
            "\u001b[0;32m<ipython-input-10-e62e25b9adfe>\u001b[0m in \u001b[0;36m<module>\u001b[0;34m()\u001b[0m\n\u001b[1;32m      3\u001b[0m \u001b[0mfluff\u001b[0m\u001b[0;34m,\u001b[0m \u001b[0mid\u001b[0m \u001b[0;34m=\u001b[0m \u001b[0mlink\u001b[0m\u001b[0;34m.\u001b[0m\u001b[0msplit\u001b[0m\u001b[0;34m(\u001b[0m\u001b[0;34m'='\u001b[0m\u001b[0;34m)\u001b[0m\u001b[0;34m\u001b[0m\u001b[0;34m\u001b[0m\u001b[0m\n\u001b[1;32m      4\u001b[0m \u001b[0mprint\u001b[0m \u001b[0;34m(\u001b[0m\u001b[0mid\u001b[0m\u001b[0;34m)\u001b[0m \u001b[0;31m# Verify that you have everything after '='\u001b[0m\u001b[0;34m\u001b[0m\u001b[0;34m\u001b[0m\u001b[0m\n\u001b[0;32m----> 5\u001b[0;31m \u001b[0mdownloaded\u001b[0m \u001b[0;34m=\u001b[0m \u001b[0mdrive\u001b[0m\u001b[0;34m.\u001b[0m\u001b[0mCreateFile\u001b[0m\u001b[0;34m(\u001b[0m\u001b[0;34m{\u001b[0m\u001b[0;34m'id'\u001b[0m\u001b[0;34m:\u001b[0m\u001b[0mid\u001b[0m\u001b[0;34m}\u001b[0m\u001b[0;34m)\u001b[0m\u001b[0;34m\u001b[0m\u001b[0;34m\u001b[0m\u001b[0m\n\u001b[0m\u001b[1;32m      6\u001b[0m \u001b[0mdownloaded\u001b[0m\u001b[0;34m.\u001b[0m\u001b[0mGetContentFile\u001b[0m\u001b[0;34m(\u001b[0m\u001b[0;34m'Filename.csv'\u001b[0m\u001b[0;34m)\u001b[0m\u001b[0;34m\u001b[0m\u001b[0;34m\u001b[0m\u001b[0m\n\u001b[1;32m      7\u001b[0m \u001b[0mdf0\u001b[0m \u001b[0;34m=\u001b[0m \u001b[0mpd\u001b[0m\u001b[0;34m.\u001b[0m\u001b[0mread_csv\u001b[0m\u001b[0;34m(\u001b[0m\u001b[0;34m'Filename.csv'\u001b[0m\u001b[0;34m)\u001b[0m\u001b[0;34m\u001b[0m\u001b[0;34m\u001b[0m\u001b[0m\n",
            "\u001b[0;31mNameError\u001b[0m: name 'drive' is not defined"
          ]
        }
      ]
    },
    {
      "cell_type": "code",
      "metadata": {
        "id": "y1rhcPv9itJu",
        "colab_type": "code",
        "colab": {}
      },
      "source": [
        ""
      ],
      "execution_count": 0,
      "outputs": []
    },
    {
      "cell_type": "code",
      "metadata": {
        "id": "Uz0VxnDBWFRb",
        "colab_type": "code",
        "colab": {}
      },
      "source": [
        "df0.head()"
      ],
      "execution_count": 0,
      "outputs": []
    },
    {
      "cell_type": "code",
      "metadata": {
        "id": "xnrRDH7aWVHh",
        "colab_type": "code",
        "colab": {}
      },
      "source": [
        "df2 = pd.read_csv('sample_submission_fixed.csv')\n",
        "df3 = pd.read_csv('test.csv')"
      ],
      "execution_count": 0,
      "outputs": []
    },
    {
      "cell_type": "code",
      "metadata": {
        "id": "KCe4TFt5X8RM",
        "colab_type": "code",
        "outputId": "a686f2fd-c268-437f-e22a-58e872495a80",
        "colab": {
          "base_uri": "https://localhost:8080/",
          "height": 197
        }
      },
      "source": [
        "df2.head()\n"
      ],
      "execution_count": 0,
      "outputs": [
        {
          "output_type": "execute_result",
          "data": {
            "text/html": [
              "<div>\n",
              "<style scoped>\n",
              "    .dataframe tbody tr th:only-of-type {\n",
              "        vertical-align: middle;\n",
              "    }\n",
              "\n",
              "    .dataframe tbody tr th {\n",
              "        vertical-align: top;\n",
              "    }\n",
              "\n",
              "    .dataframe thead th {\n",
              "        text-align: right;\n",
              "    }\n",
              "</style>\n",
              "<table border=\"1\" class=\"dataframe\">\n",
              "  <thead>\n",
              "    <tr style=\"text-align: right;\">\n",
              "      <th></th>\n",
              "      <th>id</th>\n",
              "      <th>CLASS_0</th>\n",
              "      <th>CLASS_1</th>\n",
              "      <th>CLASS_2</th>\n",
              "      <th>CLASS_3</th>\n",
              "      <th>CLASS_4</th>\n",
              "      <th>CLASS_5</th>\n",
              "      <th>CLASS_6</th>\n",
              "    </tr>\n",
              "  </thead>\n",
              "  <tbody>\n",
              "    <tr>\n",
              "      <th>0</th>\n",
              "      <td>0</td>\n",
              "      <td>0.4154</td>\n",
              "      <td>0.6546</td>\n",
              "      <td>0.1321</td>\n",
              "      <td>0.0986</td>\n",
              "      <td>0.756</td>\n",
              "      <td>0.098</td>\n",
              "      <td>0.12</td>\n",
              "    </tr>\n",
              "    <tr>\n",
              "      <th>1</th>\n",
              "      <td>1</td>\n",
              "      <td>NaN</td>\n",
              "      <td>NaN</td>\n",
              "      <td>NaN</td>\n",
              "      <td>NaN</td>\n",
              "      <td>NaN</td>\n",
              "      <td>NaN</td>\n",
              "      <td>NaN</td>\n",
              "    </tr>\n",
              "    <tr>\n",
              "      <th>2</th>\n",
              "      <td>2</td>\n",
              "      <td>NaN</td>\n",
              "      <td>NaN</td>\n",
              "      <td>NaN</td>\n",
              "      <td>NaN</td>\n",
              "      <td>NaN</td>\n",
              "      <td>NaN</td>\n",
              "      <td>NaN</td>\n",
              "    </tr>\n",
              "    <tr>\n",
              "      <th>3</th>\n",
              "      <td>3</td>\n",
              "      <td>NaN</td>\n",
              "      <td>NaN</td>\n",
              "      <td>NaN</td>\n",
              "      <td>NaN</td>\n",
              "      <td>NaN</td>\n",
              "      <td>NaN</td>\n",
              "      <td>NaN</td>\n",
              "    </tr>\n",
              "    <tr>\n",
              "      <th>4</th>\n",
              "      <td>4</td>\n",
              "      <td>NaN</td>\n",
              "      <td>NaN</td>\n",
              "      <td>NaN</td>\n",
              "      <td>NaN</td>\n",
              "      <td>NaN</td>\n",
              "      <td>NaN</td>\n",
              "      <td>NaN</td>\n",
              "    </tr>\n",
              "  </tbody>\n",
              "</table>\n",
              "</div>"
            ],
            "text/plain": [
              "   id  CLASS_0  CLASS_1  CLASS_2  CLASS_3  CLASS_4  CLASS_5  CLASS_6\n",
              "0   0   0.4154   0.6546   0.1321   0.0986    0.756    0.098     0.12\n",
              "1   1      NaN      NaN      NaN      NaN      NaN      NaN      NaN\n",
              "2   2      NaN      NaN      NaN      NaN      NaN      NaN      NaN\n",
              "3   3      NaN      NaN      NaN      NaN      NaN      NaN      NaN\n",
              "4   4      NaN      NaN      NaN      NaN      NaN      NaN      NaN"
            ]
          },
          "metadata": {
            "tags": []
          },
          "execution_count": 9
        }
      ]
    },
    {
      "cell_type": "code",
      "metadata": {
        "id": "YID4kTSOYDqP",
        "colab_type": "code",
        "outputId": "1ff2744a-f86c-4d66-9656-c6c21df29add",
        "colab": {
          "base_uri": "https://localhost:8080/",
          "height": 267
        }
      },
      "source": [
        "df3.head()"
      ],
      "execution_count": 0,
      "outputs": [
        {
          "output_type": "execute_result",
          "data": {
            "text/html": [
              "<div>\n",
              "<style scoped>\n",
              "    .dataframe tbody tr th:only-of-type {\n",
              "        vertical-align: middle;\n",
              "    }\n",
              "\n",
              "    .dataframe tbody tr th {\n",
              "        vertical-align: top;\n",
              "    }\n",
              "\n",
              "    .dataframe thead th {\n",
              "        text-align: right;\n",
              "    }\n",
              "</style>\n",
              "<table border=\"1\" class=\"dataframe\">\n",
              "  <thead>\n",
              "    <tr style=\"text-align: right;\">\n",
              "      <th></th>\n",
              "      <th>id</th>\n",
              "      <th>REGION-CENTROID-COL</th>\n",
              "      <th>REGION-CENTROID-ROW</th>\n",
              "      <th>REGION-PIXEL-COUNT</th>\n",
              "      <th>SHORT-LINE-DENSITY-5</th>\n",
              "      <th>SHORT-LINE-DENSITY-2</th>\n",
              "      <th>VEDGE-MEAN</th>\n",
              "      <th>VEDGE-SD</th>\n",
              "      <th>HEDGE-MEAN</th>\n",
              "      <th>HEDGE-SD</th>\n",
              "      <th>INTENSITY-MEAN</th>\n",
              "      <th>RAWRED-MEAN</th>\n",
              "      <th>RAWBLUE-MEAN</th>\n",
              "      <th>RAWGREEN-MEAN</th>\n",
              "      <th>EXRED-MEAN</th>\n",
              "      <th>EXBLUE-MEAN</th>\n",
              "      <th>EXGREEN-MEAN</th>\n",
              "      <th>VALUE-MEAN</th>\n",
              "      <th>SATURATION-MEAN</th>\n",
              "      <th>HUE-MEAN</th>\n",
              "    </tr>\n",
              "  </thead>\n",
              "  <tbody>\n",
              "    <tr>\n",
              "      <th>0</th>\n",
              "      <td>0</td>\n",
              "      <td>105</td>\n",
              "      <td>110</td>\n",
              "      <td>9</td>\n",
              "      <td>0.000000</td>\n",
              "      <td>0.0</td>\n",
              "      <td>0.500000</td>\n",
              "      <td>0.122222</td>\n",
              "      <td>1.944444</td>\n",
              "      <td>2.374073</td>\n",
              "      <td>4.222222</td>\n",
              "      <td>4.333334</td>\n",
              "      <td>6.333334</td>\n",
              "      <td>2.000000</td>\n",
              "      <td>0.333333</td>\n",
              "      <td>6.333334</td>\n",
              "      <td>-6.666666</td>\n",
              "      <td>6.333334</td>\n",
              "      <td>0.708333</td>\n",
              "      <td>-1.539762</td>\n",
              "    </tr>\n",
              "    <tr>\n",
              "      <th>1</th>\n",
              "      <td>1</td>\n",
              "      <td>36</td>\n",
              "      <td>189</td>\n",
              "      <td>9</td>\n",
              "      <td>0.000000</td>\n",
              "      <td>0.0</td>\n",
              "      <td>1.944444</td>\n",
              "      <td>2.462961</td>\n",
              "      <td>5.833334</td>\n",
              "      <td>21.588884</td>\n",
              "      <td>31.370370</td>\n",
              "      <td>28.444445</td>\n",
              "      <td>38.000000</td>\n",
              "      <td>27.666666</td>\n",
              "      <td>-8.777778</td>\n",
              "      <td>19.888890</td>\n",
              "      <td>-11.111111</td>\n",
              "      <td>38.000000</td>\n",
              "      <td>0.266302</td>\n",
              "      <td>-2.020345</td>\n",
              "    </tr>\n",
              "    <tr>\n",
              "      <th>2</th>\n",
              "      <td>2</td>\n",
              "      <td>252</td>\n",
              "      <td>71</td>\n",
              "      <td>9</td>\n",
              "      <td>0.000000</td>\n",
              "      <td>0.0</td>\n",
              "      <td>0.722221</td>\n",
              "      <td>0.329628</td>\n",
              "      <td>1.333333</td>\n",
              "      <td>0.711110</td>\n",
              "      <td>89.148150</td>\n",
              "      <td>72.777780</td>\n",
              "      <td>115.555560</td>\n",
              "      <td>79.111115</td>\n",
              "      <td>-49.111110</td>\n",
              "      <td>79.222220</td>\n",
              "      <td>-30.111110</td>\n",
              "      <td>115.555560</td>\n",
              "      <td>0.370097</td>\n",
              "      <td>-2.249475</td>\n",
              "    </tr>\n",
              "    <tr>\n",
              "      <th>3</th>\n",
              "      <td>3</td>\n",
              "      <td>10</td>\n",
              "      <td>61</td>\n",
              "      <td>9</td>\n",
              "      <td>0.111111</td>\n",
              "      <td>0.0</td>\n",
              "      <td>2.222222</td>\n",
              "      <td>3.185182</td>\n",
              "      <td>3.111111</td>\n",
              "      <td>7.185185</td>\n",
              "      <td>18.962963</td>\n",
              "      <td>18.666668</td>\n",
              "      <td>24.222221</td>\n",
              "      <td>14.000000</td>\n",
              "      <td>-0.888889</td>\n",
              "      <td>15.777778</td>\n",
              "      <td>-14.888889</td>\n",
              "      <td>24.222221</td>\n",
              "      <td>0.419522</td>\n",
              "      <td>-1.591206</td>\n",
              "    </tr>\n",
              "    <tr>\n",
              "      <th>4</th>\n",
              "      <td>4</td>\n",
              "      <td>7</td>\n",
              "      <td>18</td>\n",
              "      <td>9</td>\n",
              "      <td>0.000000</td>\n",
              "      <td>0.0</td>\n",
              "      <td>1.277779</td>\n",
              "      <td>0.729627</td>\n",
              "      <td>0.944445</td>\n",
              "      <td>0.374079</td>\n",
              "      <td>138.629620</td>\n",
              "      <td>133.333340</td>\n",
              "      <td>147.555560</td>\n",
              "      <td>135.000000</td>\n",
              "      <td>-15.888889</td>\n",
              "      <td>26.777779</td>\n",
              "      <td>-10.888889</td>\n",
              "      <td>147.555560</td>\n",
              "      <td>0.096352</td>\n",
              "      <td>-2.214612</td>\n",
              "    </tr>\n",
              "  </tbody>\n",
              "</table>\n",
              "</div>"
            ],
            "text/plain": [
              "   id  REGION-CENTROID-COL  ...  SATURATION-MEAN  HUE-MEAN\n",
              "0   0                  105  ...         0.708333 -1.539762\n",
              "1   1                   36  ...         0.266302 -2.020345\n",
              "2   2                  252  ...         0.370097 -2.249475\n",
              "3   3                   10  ...         0.419522 -1.591206\n",
              "4   4                    7  ...         0.096352 -2.214612\n",
              "\n",
              "[5 rows x 20 columns]"
            ]
          },
          "metadata": {
            "tags": []
          },
          "execution_count": 10
        }
      ]
    },
    {
      "cell_type": "code",
      "metadata": {
        "id": "n7ArIg5TYJIB",
        "colab_type": "code",
        "outputId": "f7811c8c-1ad8-4edf-ab19-999af482b821",
        "colab": {
          "base_uri": "https://localhost:8080/",
          "height": 357
        }
      },
      "source": [
        "df3.describe()"
      ],
      "execution_count": 0,
      "outputs": [
        {
          "output_type": "execute_result",
          "data": {
            "text/html": [
              "<div>\n",
              "<style scoped>\n",
              "    .dataframe tbody tr th:only-of-type {\n",
              "        vertical-align: middle;\n",
              "    }\n",
              "\n",
              "    .dataframe tbody tr th {\n",
              "        vertical-align: top;\n",
              "    }\n",
              "\n",
              "    .dataframe thead th {\n",
              "        text-align: right;\n",
              "    }\n",
              "</style>\n",
              "<table border=\"1\" class=\"dataframe\">\n",
              "  <thead>\n",
              "    <tr style=\"text-align: right;\">\n",
              "      <th></th>\n",
              "      <th>id</th>\n",
              "      <th>REGION-CENTROID-COL</th>\n",
              "      <th>REGION-CENTROID-ROW</th>\n",
              "      <th>REGION-PIXEL-COUNT</th>\n",
              "      <th>SHORT-LINE-DENSITY-5</th>\n",
              "      <th>SHORT-LINE-DENSITY-2</th>\n",
              "      <th>VEDGE-MEAN</th>\n",
              "      <th>VEDGE-SD</th>\n",
              "      <th>HEDGE-MEAN</th>\n",
              "      <th>HEDGE-SD</th>\n",
              "      <th>INTENSITY-MEAN</th>\n",
              "      <th>RAWRED-MEAN</th>\n",
              "      <th>RAWBLUE-MEAN</th>\n",
              "      <th>RAWGREEN-MEAN</th>\n",
              "      <th>EXRED-MEAN</th>\n",
              "      <th>EXBLUE-MEAN</th>\n",
              "      <th>EXGREEN-MEAN</th>\n",
              "      <th>VALUE-MEAN</th>\n",
              "      <th>SATURATION-MEAN</th>\n",
              "      <th>HUE-MEAN</th>\n",
              "    </tr>\n",
              "  </thead>\n",
              "  <tbody>\n",
              "    <tr>\n",
              "      <th>count</th>\n",
              "      <td>2100.000000</td>\n",
              "      <td>2100.000000</td>\n",
              "      <td>2100.000000</td>\n",
              "      <td>2100.0</td>\n",
              "      <td>2100.000000</td>\n",
              "      <td>2100.000000</td>\n",
              "      <td>2100.000000</td>\n",
              "      <td>2100.000000</td>\n",
              "      <td>2100.000000</td>\n",
              "      <td>2.100000e+03</td>\n",
              "      <td>2100.000000</td>\n",
              "      <td>2100.000000</td>\n",
              "      <td>2100.000000</td>\n",
              "      <td>2100.000000</td>\n",
              "      <td>2100.000000</td>\n",
              "      <td>2100.000000</td>\n",
              "      <td>2100.000000</td>\n",
              "      <td>2100.000000</td>\n",
              "      <td>2100.000000</td>\n",
              "      <td>2100.000000</td>\n",
              "    </tr>\n",
              "    <tr>\n",
              "      <th>mean</th>\n",
              "      <td>1049.500000</td>\n",
              "      <td>124.940476</td>\n",
              "      <td>123.483333</td>\n",
              "      <td>9.0</td>\n",
              "      <td>0.014921</td>\n",
              "      <td>0.004550</td>\n",
              "      <td>1.890820</td>\n",
              "      <td>5.708299</td>\n",
              "      <td>2.406772</td>\n",
              "      <td>7.904224e+00</td>\n",
              "      <td>37.047654</td>\n",
              "      <td>32.806667</td>\n",
              "      <td>44.205556</td>\n",
              "      <td>34.130741</td>\n",
              "      <td>-12.722963</td>\n",
              "      <td>21.473704</td>\n",
              "      <td>-8.750741</td>\n",
              "      <td>45.162381</td>\n",
              "      <td>0.427259</td>\n",
              "      <td>-1.365147</td>\n",
              "    </tr>\n",
              "    <tr>\n",
              "      <th>std</th>\n",
              "      <td>606.362103</td>\n",
              "      <td>72.858637</td>\n",
              "      <td>57.431428</td>\n",
              "      <td>0.0</td>\n",
              "      <td>0.041024</td>\n",
              "      <td>0.023573</td>\n",
              "      <td>2.649453</td>\n",
              "      <td>44.989359</td>\n",
              "      <td>3.469954</td>\n",
              "      <td>5.347107e+01</td>\n",
              "      <td>38.135291</td>\n",
              "      <td>34.994538</td>\n",
              "      <td>43.510119</td>\n",
              "      <td>36.303768</td>\n",
              "      <td>11.588214</td>\n",
              "      <td>19.654107</td>\n",
              "      <td>11.606996</td>\n",
              "      <td>42.900582</td>\n",
              "      <td>0.228458</td>\n",
              "      <td>1.544278</td>\n",
              "    </tr>\n",
              "    <tr>\n",
              "      <th>min</th>\n",
              "      <td>0.000000</td>\n",
              "      <td>1.000000</td>\n",
              "      <td>11.000000</td>\n",
              "      <td>9.0</td>\n",
              "      <td>0.000000</td>\n",
              "      <td>0.000000</td>\n",
              "      <td>0.000000</td>\n",
              "      <td>0.000000</td>\n",
              "      <td>0.000000</td>\n",
              "      <td>-1.590000e-08</td>\n",
              "      <td>0.000000</td>\n",
              "      <td>0.000000</td>\n",
              "      <td>0.000000</td>\n",
              "      <td>0.000000</td>\n",
              "      <td>-49.666668</td>\n",
              "      <td>-12.444445</td>\n",
              "      <td>-33.888890</td>\n",
              "      <td>0.000000</td>\n",
              "      <td>0.000000</td>\n",
              "      <td>-3.044175</td>\n",
              "    </tr>\n",
              "    <tr>\n",
              "      <th>25%</th>\n",
              "      <td>524.750000</td>\n",
              "      <td>62.000000</td>\n",
              "      <td>81.000000</td>\n",
              "      <td>9.0</td>\n",
              "      <td>0.000000</td>\n",
              "      <td>0.000000</td>\n",
              "      <td>0.722222</td>\n",
              "      <td>0.349603</td>\n",
              "      <td>0.833332</td>\n",
              "      <td>4.216377e-01</td>\n",
              "      <td>7.472222</td>\n",
              "      <td>7.000000</td>\n",
              "      <td>9.666667</td>\n",
              "      <td>6.222222</td>\n",
              "      <td>-18.583333</td>\n",
              "      <td>4.305556</td>\n",
              "      <td>-17.000000</td>\n",
              "      <td>11.777778</td>\n",
              "      <td>0.284934</td>\n",
              "      <td>-2.188539</td>\n",
              "    </tr>\n",
              "    <tr>\n",
              "      <th>50%</th>\n",
              "      <td>1049.500000</td>\n",
              "      <td>121.000000</td>\n",
              "      <td>122.000000</td>\n",
              "      <td>9.0</td>\n",
              "      <td>0.000000</td>\n",
              "      <td>0.000000</td>\n",
              "      <td>1.277776</td>\n",
              "      <td>0.833333</td>\n",
              "      <td>1.444444</td>\n",
              "      <td>9.897442e-01</td>\n",
              "      <td>21.666666</td>\n",
              "      <td>19.666668</td>\n",
              "      <td>27.777779</td>\n",
              "      <td>20.444445</td>\n",
              "      <td>-10.888889</td>\n",
              "      <td>19.666666</td>\n",
              "      <td>-11.000000</td>\n",
              "      <td>28.666666</td>\n",
              "      <td>0.375064</td>\n",
              "      <td>-2.052625</td>\n",
              "    </tr>\n",
              "    <tr>\n",
              "      <th>75%</th>\n",
              "      <td>1574.250000</td>\n",
              "      <td>188.250000</td>\n",
              "      <td>171.250000</td>\n",
              "      <td>9.0</td>\n",
              "      <td>0.000000</td>\n",
              "      <td>0.000000</td>\n",
              "      <td>2.222221</td>\n",
              "      <td>1.807406</td>\n",
              "      <td>2.555556</td>\n",
              "      <td>2.251852e+00</td>\n",
              "      <td>53.277778</td>\n",
              "      <td>47.333332</td>\n",
              "      <td>65.000000</td>\n",
              "      <td>46.388888</td>\n",
              "      <td>-4.222222</td>\n",
              "      <td>36.111110</td>\n",
              "      <td>-3.222222</td>\n",
              "      <td>65.000000</td>\n",
              "      <td>0.540228</td>\n",
              "      <td>-1.565745</td>\n",
              "    </tr>\n",
              "    <tr>\n",
              "      <th>max</th>\n",
              "      <td>2099.000000</td>\n",
              "      <td>254.000000</td>\n",
              "      <td>251.000000</td>\n",
              "      <td>9.0</td>\n",
              "      <td>0.333333</td>\n",
              "      <td>0.222222</td>\n",
              "      <td>29.222221</td>\n",
              "      <td>991.718400</td>\n",
              "      <td>44.722225</td>\n",
              "      <td>1.386329e+03</td>\n",
              "      <td>143.444440</td>\n",
              "      <td>137.111110</td>\n",
              "      <td>150.888890</td>\n",
              "      <td>142.555560</td>\n",
              "      <td>9.888889</td>\n",
              "      <td>82.000000</td>\n",
              "      <td>24.666666</td>\n",
              "      <td>150.888890</td>\n",
              "      <td>1.000000</td>\n",
              "      <td>2.912480</td>\n",
              "    </tr>\n",
              "  </tbody>\n",
              "</table>\n",
              "</div>"
            ],
            "text/plain": [
              "                id  REGION-CENTROID-COL  ...  SATURATION-MEAN     HUE-MEAN\n",
              "count  2100.000000          2100.000000  ...      2100.000000  2100.000000\n",
              "mean   1049.500000           124.940476  ...         0.427259    -1.365147\n",
              "std     606.362103            72.858637  ...         0.228458     1.544278\n",
              "min       0.000000             1.000000  ...         0.000000    -3.044175\n",
              "25%     524.750000            62.000000  ...         0.284934    -2.188539\n",
              "50%    1049.500000           121.000000  ...         0.375064    -2.052625\n",
              "75%    1574.250000           188.250000  ...         0.540228    -1.565745\n",
              "max    2099.000000           254.000000  ...         1.000000     2.912480\n",
              "\n",
              "[8 rows x 20 columns]"
            ]
          },
          "metadata": {
            "tags": []
          },
          "execution_count": 11
        }
      ]
    },
    {
      "cell_type": "code",
      "metadata": {
        "id": "BspJYDozLwOS",
        "colab_type": "code",
        "outputId": "cb61aa0e-10d8-4c9e-cb33-25f074c8624e",
        "colab": {
          "base_uri": "https://localhost:8080/",
          "height": 496
        }
      },
      "source": [
        "df1.info()"
      ],
      "execution_count": 0,
      "outputs": [
        {
          "output_type": "stream",
          "text": [
            "<class 'pandas.core.frame.DataFrame'>\n",
            "RangeIndex: 210 entries, 0 to 209\n",
            "Data columns (total 20 columns):\n",
            " #   Column                Non-Null Count  Dtype  \n",
            "---  ------                --------------  -----  \n",
            " 0   REGION-CENTROID-COL   210 non-null    float64\n",
            " 1   REGION-CENTROID-ROW   210 non-null    float64\n",
            " 2   REGION-PIXEL-COUNT    210 non-null    int64  \n",
            " 3   SHORT-LINE-DENSITY-5  210 non-null    float64\n",
            " 4   SHORT-LINE-DENSITY-2  210 non-null    float64\n",
            " 5   VEDGE-MEAN            210 non-null    float64\n",
            " 6   VEDGE-SD              210 non-null    float64\n",
            " 7   HEDGE-MEAN            210 non-null    float64\n",
            " 8   HEDGE-SD              210 non-null    float64\n",
            " 9   INTENSITY-MEAN        210 non-null    float64\n",
            " 10  RAWRED-MEAN           210 non-null    float64\n",
            " 11  RAWBLUE-MEAN          210 non-null    float64\n",
            " 12  RAWGREEN-MEAN         210 non-null    float64\n",
            " 13  EXRED-MEAN            210 non-null    float64\n",
            " 14  EXBLUE-MEAN           210 non-null    float64\n",
            " 15  EXGREEN-MEAN          210 non-null    float64\n",
            " 16  VALUE-MEAN            210 non-null    float64\n",
            " 17  SATURATION-MEAN       210 non-null    float64\n",
            " 18  HUE-MEAN              210 non-null    float64\n",
            " 19  CLASS                 210 non-null    int64  \n",
            "dtypes: float64(18), int64(2)\n",
            "memory usage: 32.9 KB\n"
          ],
          "name": "stdout"
        }
      ]
    },
    {
      "cell_type": "code",
      "metadata": {
        "id": "biBVkLdFjEQF",
        "colab_type": "code",
        "outputId": "8e6da159-8c69-428d-8a75-8f4673fc2975",
        "colab": {
          "base_uri": "https://localhost:8080/",
          "height": 390
        }
      },
      "source": [
        "df1.nunique()"
      ],
      "execution_count": 0,
      "outputs": [
        {
          "output_type": "execute_result",
          "data": {
            "text/plain": [
              "REGION-CENTROID-COL     139\n",
              "REGION-CENTROID-ROW     139\n",
              "REGION-PIXEL-COUNT        1\n",
              "SHORT-LINE-DENSITY-5      2\n",
              "SHORT-LINE-DENSITY-2      3\n",
              "VEDGE-MEAN              160\n",
              "VEDGE-SD                202\n",
              "HEDGE-MEAN              164\n",
              "HEDGE-SD                202\n",
              "INTENSITY-MEAN          196\n",
              "RAWRED-MEAN             160\n",
              "RAWBLUE-MEAN            175\n",
              "RAWGREEN-MEAN           154\n",
              "EXRED-MEAN              156\n",
              "EXBLUE-MEAN             168\n",
              "EXGREEN-MEAN            151\n",
              "VALUE-MEAN              175\n",
              "SATURATION-MEAN         202\n",
              "HUE-MEAN                202\n",
              "CLASS                     7\n",
              "dtype: int64"
            ]
          },
          "metadata": {
            "tags": []
          },
          "execution_count": 13
        }
      ]
    },
    {
      "cell_type": "code",
      "metadata": {
        "id": "L4437TmIjQI-",
        "colab_type": "code",
        "outputId": "c1b39e85-3a49-49cf-bfb9-e2e014976ffc",
        "colab": {
          "base_uri": "https://localhost:8080/",
          "height": 390
        }
      },
      "source": [
        "df1.isna().any()"
      ],
      "execution_count": 0,
      "outputs": [
        {
          "output_type": "execute_result",
          "data": {
            "text/plain": [
              "REGION-CENTROID-COL     False\n",
              "REGION-CENTROID-ROW     False\n",
              "REGION-PIXEL-COUNT      False\n",
              "SHORT-LINE-DENSITY-5    False\n",
              "SHORT-LINE-DENSITY-2    False\n",
              "VEDGE-MEAN              False\n",
              "VEDGE-SD                False\n",
              "HEDGE-MEAN              False\n",
              "HEDGE-SD                False\n",
              "INTENSITY-MEAN          False\n",
              "RAWRED-MEAN             False\n",
              "RAWBLUE-MEAN            False\n",
              "RAWGREEN-MEAN           False\n",
              "EXRED-MEAN              False\n",
              "EXBLUE-MEAN             False\n",
              "EXGREEN-MEAN            False\n",
              "VALUE-MEAN              False\n",
              "SATURATION-MEAN         False\n",
              "HUE-MEAN                False\n",
              "CLASS                   False\n",
              "dtype: bool"
            ]
          },
          "metadata": {
            "tags": []
          },
          "execution_count": 14
        }
      ]
    },
    {
      "cell_type": "code",
      "metadata": {
        "id": "VljSk1NejgLP",
        "colab_type": "code",
        "colab": {}
      },
      "source": [
        "#plot feature importance using built-in function\n",
        "from xgboost import XGBClassifier\n",
        "from xgboost import plot_importance\n",
        "from matplotlib import pyplot"
      ],
      "execution_count": 0,
      "outputs": []
    },
    {
      "cell_type": "code",
      "metadata": {
        "id": "MLRczDxR7F9f",
        "colab_type": "code",
        "outputId": "e6e3daac-0bbd-450e-c502-b8b6677d1a39",
        "colab": {
          "base_uri": "https://localhost:8080/",
          "height": 316
        }
      },
      "source": [
        "df1.hist(column='REGION-CENTROID-ROW', bins=5)"
      ],
      "execution_count": 0,
      "outputs": [
        {
          "output_type": "execute_result",
          "data": {
            "text/plain": [
              "array([[<matplotlib.axes._subplots.AxesSubplot object at 0x7f6f31562080>]],\n",
              "      dtype=object)"
            ]
          },
          "metadata": {
            "tags": []
          },
          "execution_count": 16
        },
        {
          "output_type": "display_data",
          "data": {
            "image/png": "[encoded data removed]",
            "text/plain": [
              "<Figure size 432x288 with 1 Axes>"
            ]
          },
          "metadata": {
            "tags": []
          }
        }
      ]
    },
    {
      "cell_type": "code",
      "metadata": {
        "id": "1vkOyCtu7pY7",
        "colab_type": "code",
        "colab": {}
      },
      "source": [
        ""
      ],
      "execution_count": 0,
      "outputs": []
    },
    {
      "cell_type": "code",
      "metadata": {
        "id": "G47Wh6pA80dI",
        "colab_type": "code",
        "colab": {}
      },
      "source": [
        "from sklearn.preprocessing import LabelEncoder\n",
        "#New variable\n",
        "le = LabelEncoder()\n",
        "df1['CLASS'] = le.fit_transform(df1[\"CLASS\"])\n",
        "#     data[i] = le.fit_transform(data[i].astype(str))"
      ],
      "execution_count": 0,
      "outputs": []
    },
    {
      "cell_type": "code",
      "metadata": {
        "id": "1EFxjKhyHs2z",
        "colab_type": "code",
        "outputId": "c1f63e66-6699-4512-d38b-194ed49a899d",
        "colab": {
          "base_uri": "https://localhost:8080/",
          "height": 230
        }
      },
      "source": [
        "df1['CLASS']"
      ],
      "execution_count": 0,
      "outputs": [
        {
          "output_type": "execute_result",
          "data": {
            "text/plain": [
              "0      0\n",
              "1      1\n",
              "2      2\n",
              "3      2\n",
              "4      3\n",
              "      ..\n",
              "205    6\n",
              "206    3\n",
              "207    2\n",
              "208    1\n",
              "209    0\n",
              "Name: CLASS, Length: 210, dtype: int64"
            ]
          },
          "metadata": {
            "tags": []
          },
          "execution_count": 18
        }
      ]
    },
    {
      "cell_type": "code",
      "metadata": {
        "id": "S1UxJpo8-Q5Z",
        "colab_type": "code",
        "colab": {}
      },
      "source": [
        "importantcols=[x for x in df1.columns if x not in ['CLASS']]\n",
        "y = df1[[\"CLASS\"]]\n",
        "X = df1[importantcols]"
      ],
      "execution_count": 0,
      "outputs": []
    },
    {
      "cell_type": "code",
      "metadata": {
        "id": "lgLAS_4HFNYK",
        "colab_type": "code",
        "outputId": "719b695e-f960-4c49-d14c-ea2e5ad21ee8",
        "colab": {
          "base_uri": "https://localhost:8080/",
          "height": 72
        }
      },
      "source": [
        "import numpy as np # linear algebra\n",
        "import pandas as pd # data processing, CSV file I/O (e.g. pd.read_csv)\n",
        "import xgboost as xgb\n",
        "from sklearn.model_selection import train_test_split\n",
        "import matplotlib.pyplot as plt\n",
        "import seaborn as sns\n",
        "sns.set()"
      ],
      "execution_count": 0,
      "outputs": [
        {
          "output_type": "stream",
          "text": [
            "/usr/local/lib/python3.6/dist-packages/statsmodels/tools/_testing.py:19: FutureWarning: pandas.util.testing is deprecated. Use the functions in the public API at pandas.testing instead.\n",
            "  import pandas.util.testing as tm\n"
          ],
          "name": "stderr"
        }
      ]
    },
    {
      "cell_type": "code",
      "metadata": {
        "id": "aHTdKGI9_JvA",
        "colab_type": "code",
        "outputId": "b29f3c42-b693-4511-e95a-5ad698a6e423",
        "colab": {
          "base_uri": "https://localhost:8080/",
          "height": 496
        }
      },
      "source": [
        "df1.info()"
      ],
      "execution_count": 0,
      "outputs": [
        {
          "output_type": "stream",
          "text": [
            "<class 'pandas.core.frame.DataFrame'>\n",
            "RangeIndex: 210 entries, 0 to 209\n",
            "Data columns (total 20 columns):\n",
            " #   Column                Non-Null Count  Dtype  \n",
            "---  ------                --------------  -----  \n",
            " 0   REGION-CENTROID-COL   210 non-null    float64\n",
            " 1   REGION-CENTROID-ROW   210 non-null    float64\n",
            " 2   REGION-PIXEL-COUNT    210 non-null    int64  \n",
            " 3   SHORT-LINE-DENSITY-5  210 non-null    float64\n",
            " 4   SHORT-LINE-DENSITY-2  210 non-null    float64\n",
            " 5   VEDGE-MEAN            210 non-null    float64\n",
            " 6   VEDGE-SD              210 non-null    float64\n",
            " 7   HEDGE-MEAN            210 non-null    float64\n",
            " 8   HEDGE-SD              210 non-null    float64\n",
            " 9   INTENSITY-MEAN        210 non-null    float64\n",
            " 10  RAWRED-MEAN           210 non-null    float64\n",
            " 11  RAWBLUE-MEAN          210 non-null    float64\n",
            " 12  RAWGREEN-MEAN         210 non-null    float64\n",
            " 13  EXRED-MEAN            210 non-null    float64\n",
            " 14  EXBLUE-MEAN           210 non-null    float64\n",
            " 15  EXGREEN-MEAN          210 non-null    float64\n",
            " 16  VALUE-MEAN            210 non-null    float64\n",
            " 17  SATURATION-MEAN       210 non-null    float64\n",
            " 18  HUE-MEAN              210 non-null    float64\n",
            " 19  CLASS                 210 non-null    int64  \n",
            "dtypes: float64(18), int64(2)\n",
            "memory usage: 32.9 KB\n"
          ],
          "name": "stdout"
        }
      ]
    },
    {
      "cell_type": "code",
      "metadata": {
        "id": "77OLScuu_STt",
        "colab_type": "code",
        "outputId": "8c037c4c-9f31-4b59-ae1a-b42599f95fa5",
        "colab": {
          "base_uri": "https://localhost:8080/",
          "height": 392
        }
      },
      "source": [
        "# plot feature importance using built-in function\n",
        "from xgboost import XGBClassifier\n",
        "from xgboost import plot_importance\n",
        "from matplotlib import pyplot\n",
        "# fit model no training data\n",
        "model = XGBClassifier()\n",
        "model.fit(X, y)\n",
        "# plot feature importance\n",
        "plot_importance(model)\n",
        "pyplot.show()"
      ],
      "execution_count": 0,
      "outputs": [
        {
          "output_type": "stream",
          "text": [
            "/usr/local/lib/python3.6/dist-packages/sklearn/preprocessing/_label.py:235: DataConversionWarning: A column-vector y was passed when a 1d array was expected. Please change the shape of y to (n_samples, ), for example using ravel().\n",
            "  y = column_or_1d(y, warn=True)\n",
            "/usr/local/lib/python3.6/dist-packages/sklearn/preprocessing/_label.py:268: DataConversionWarning: A column-vector y was passed when a 1d array was expected. Please change the shape of y to (n_samples, ), for example using ravel().\n",
            "  y = column_or_1d(y, warn=True)\n"
          ],
          "name": "stderr"
        },
        {
          "output_type": "display_data",
          "data": {
            "image/png": "[encoded data removed]",
            "text/plain": [
              "<Figure size 432x288 with 1 Axes>"
            ]
          },
          "metadata": {
            "tags": []
          }
        }
      ]
    },
    {
      "cell_type": "code",
      "metadata": {
        "id": "mYlNf35xDYum",
        "colab_type": "code",
        "colab": {}
      },
      "source": [
        "#Split the dataset into train and Test\n",
        "seed = 7\n",
        "test_size = 0.3\n",
        "X_train, X_test, y_train, y_test = train_test_split(X, y, test_size=test_size, random_state=seed)"
      ],
      "execution_count": 0,
      "outputs": []
    },
    {
      "cell_type": "code",
      "metadata": {
        "id": "v3AqDa6uJI2L",
        "colab_type": "code",
        "outputId": "48f2f1e1-ed14-40c0-e21d-3fd204504628",
        "colab": {
          "base_uri": "https://localhost:8080/",
          "height": 107
        }
      },
      "source": [
        "#Train the XGboost Model for Classification\n",
        "model1 = xgb.XGBClassifier(n_estimators=300)\n",
        "train_model1 = model1.fit(X_train, y_train)"
      ],
      "execution_count": 0,
      "outputs": [
        {
          "output_type": "stream",
          "text": [
            "/usr/local/lib/python3.6/dist-packages/sklearn/preprocessing/_label.py:235: DataConversionWarning: A column-vector y was passed when a 1d array was expected. Please change the shape of y to (n_samples, ), for example using ravel().\n",
            "  y = column_or_1d(y, warn=True)\n",
            "/usr/local/lib/python3.6/dist-packages/sklearn/preprocessing/_label.py:268: DataConversionWarning: A column-vector y was passed when a 1d array was expected. Please change the shape of y to (n_samples, ), for example using ravel().\n",
            "  y = column_or_1d(y, warn=True)\n"
          ],
          "name": "stderr"
        }
      ]
    },
    {
      "cell_type": "code",
      "metadata": {
        "id": "H8q_TwzwJ6Qi",
        "colab_type": "code",
        "outputId": "866b4b66-9c0a-4faa-8fd4-f32358155085",
        "colab": {
          "base_uri": "https://localhost:8080/",
          "height": 54
        }
      },
      "source": [
        "#prediction and Classification Report\n",
        "from sklearn.metrics import classification_report\n",
        "\n",
        "pred1 = train_model1.predict(X_test)\n",
        "\n",
        "print('Model 1 XGboost Report %r' % (classification_report(y_test, pred1)))"
      ],
      "execution_count": 0,
      "outputs": [
        {
          "output_type": "stream",
          "text": [
            "Model 1 XGboost Report '              precision    recall  f1-score   support\\n\\n           0       1.00      0.80      0.89         5\\n           1       1.00      1.00      1.00        10\\n           2       0.85      0.92      0.88        12\\n           3       1.00      1.00      1.00         8\\n           4       1.00      0.78      0.88         9\\n           5       1.00      1.00      1.00        10\\n           6       0.73      0.89      0.80         9\\n\\n    accuracy                           0.92        63\\n   macro avg       0.94      0.91      0.92        63\\nweighted avg       0.93      0.92      0.92        63\\n'\n"
          ],
          "name": "stdout"
        }
      ]
    },
    {
      "cell_type": "code",
      "metadata": {
        "id": "qAMDL4_KKARP",
        "colab_type": "code",
        "outputId": "6a4b3dcc-121b-4ebe-f4dc-68c9b205c485",
        "colab": {
          "base_uri": "https://localhost:8080/",
          "height": 34
        }
      },
      "source": [
        "#Let's use accuracy score\n",
        "from sklearn.metrics import accuracy_score\n",
        "\n",
        "print(\"Accuracy for model 1: %.2f\" % (accuracy_score(y_test, pred1) * 100))"
      ],
      "execution_count": 0,
      "outputs": [
        {
          "output_type": "stream",
          "text": [
            "Accuracy for model 1: 92.06\n"
          ],
          "name": "stdout"
        }
      ]
    },
    {
      "cell_type": "code",
      "metadata": {
        "id": "u-tILUBNKKLe",
        "colab_type": "code",
        "colab": {}
      },
      "source": [
        "predict1 = train_model1.predict(df3[importantcols])"
      ],
      "execution_count": 0,
      "outputs": []
    },
    {
      "cell_type": "code",
      "metadata": {
        "id": "QZasxuRXKeAn",
        "colab_type": "code",
        "outputId": "de54735d-2554-4a38-80a7-2559ec158c39",
        "colab": {
          "base_uri": "https://localhost:8080/",
          "height": 34
        }
      },
      "source": [
        "predict1"
      ],
      "execution_count": 0,
      "outputs": [
        {
          "output_type": "execute_result",
          "data": {
            "text/plain": [
              "array([2, 4, 3, ..., 3, 5, 4])"
            ]
          },
          "metadata": {
            "tags": []
          },
          "execution_count": 29
        }
      ]
    },
    {
      "cell_type": "code",
      "metadata": {
        "id": "TKpYkiODKj7E",
        "colab_type": "code",
        "colab": {}
      },
      "source": [
        "df3[\"CLASS\"] = predict1"
      ],
      "execution_count": 0,
      "outputs": []
    },
    {
      "cell_type": "code",
      "metadata": {
        "id": "bGW3zBErLJQO",
        "colab_type": "code",
        "outputId": "c8e21791-ce44-4e4f-8c4e-0f58d1d55d65",
        "colab": {
          "base_uri": "https://localhost:8080/",
          "height": 158
        }
      },
      "source": [
        "df3.CLASS.value_counts()"
      ],
      "execution_count": 0,
      "outputs": [
        {
          "output_type": "execute_result",
          "data": {
            "text/plain": [
              "6    333\n",
              "1    313\n",
              "3    301\n",
              "5    298\n",
              "2    291\n",
              "4    285\n",
              "0    279\n",
              "Name: CLASS, dtype: int64"
            ]
          },
          "metadata": {
            "tags": []
          },
          "execution_count": 31
        }
      ]
    },
    {
      "cell_type": "code",
      "metadata": {
        "id": "8KeqWIXzLTlD",
        "colab_type": "code",
        "colab": {}
      },
      "source": [
        "submission = df3[[\"id\", \"CLASS\"]]"
      ],
      "execution_count": 0,
      "outputs": []
    },
    {
      "cell_type": "markdown",
      "metadata": {
        "id": "rSvkCkXorGy_",
        "colab_type": "text"
      },
      "source": [
        ""
      ]
    },
    {
      "cell_type": "markdown",
      "metadata": {
        "id": "gRCmRldsrHRt",
        "colab_type": "text"
      },
      "source": [
        ""
      ]
    },
    {
      "cell_type": "code",
      "metadata": {
        "id": "T1hM7E9yLz_6",
        "colab_type": "code",
        "outputId": "9a81091a-110f-4b4a-a132-0d11da5f2c45",
        "colab": {
          "base_uri": "https://localhost:8080/",
          "height": 197
        }
      },
      "source": [
        "submission.tail()"
      ],
      "execution_count": 0,
      "outputs": [
        {
          "output_type": "execute_result",
          "data": {
            "text/html": [
              "<div>\n",
              "<style scoped>\n",
              "    .dataframe tbody tr th:only-of-type {\n",
              "        vertical-align: middle;\n",
              "    }\n",
              "\n",
              "    .dataframe tbody tr th {\n",
              "        vertical-align: top;\n",
              "    }\n",
              "\n",
              "    .dataframe thead th {\n",
              "        text-align: right;\n",
              "    }\n",
              "</style>\n",
              "<table border=\"1\" class=\"dataframe\">\n",
              "  <thead>\n",
              "    <tr style=\"text-align: right;\">\n",
              "      <th></th>\n",
              "      <th>id</th>\n",
              "      <th>CLASS</th>\n",
              "    </tr>\n",
              "  </thead>\n",
              "  <tbody>\n",
              "    <tr>\n",
              "      <th>2095</th>\n",
              "      <td>2095</td>\n",
              "      <td>2</td>\n",
              "    </tr>\n",
              "    <tr>\n",
              "      <th>2096</th>\n",
              "      <td>2096</td>\n",
              "      <td>6</td>\n",
              "    </tr>\n",
              "    <tr>\n",
              "      <th>2097</th>\n",
              "      <td>2097</td>\n",
              "      <td>3</td>\n",
              "    </tr>\n",
              "    <tr>\n",
              "      <th>2098</th>\n",
              "      <td>2098</td>\n",
              "      <td>5</td>\n",
              "    </tr>\n",
              "    <tr>\n",
              "      <th>2099</th>\n",
              "      <td>2099</td>\n",
              "      <td>4</td>\n",
              "    </tr>\n",
              "  </tbody>\n",
              "</table>\n",
              "</div>"
            ],
            "text/plain": [
              "        id  CLASS\n",
              "2095  2095      2\n",
              "2096  2096      6\n",
              "2097  2097      3\n",
              "2098  2098      5\n",
              "2099  2099      4"
            ]
          },
          "metadata": {
            "tags": []
          },
          "execution_count": 34
        }
      ]
    },
    {
      "cell_type": "code",
      "metadata": {
        "id": "XJhvNoVosSFU",
        "colab_type": "code",
        "outputId": "312b89f9-8809-4d33-a5bf-bf9c4aaa03bb",
        "colab": {
          "base_uri": "https://localhost:8080/",
          "height": 107
        }
      },
      "source": [
        "import numpy as np\n",
        "import xgboost as xgb\n",
        "from sklearn.datasets import dump_svmlight_file\n",
        "from sklearn.externals import joblib\n",
        "from sklearn.metrics import precision_score\n",
        "\n",
        "\n",
        "\n",
        "#Split the dataset into train and Test\n",
        "seed = 7\n",
        "test_size = 0.3\n",
        "X_train, X_test, y_train, y_test = train_test_split(X, y, test_size=test_size, random_state=seed)\n",
        "\n",
        "# use DMatrix for xgbosot\n",
        "dtrain = xgb.DMatrix(X_train, label=y_train)\n",
        "dtest = xgb.DMatrix(X_test, label=y_test)\n",
        "\n",
        "# set xgboost params\n",
        "param = {\n",
        "    'max_depth': 3,  # the maximum depth of each tree\n",
        "    'eta': 0.3,  # the training step for each iteration\n",
        "    'silent': 1,  # logging mode - quiet\n",
        "    'eval_metric':\"mlogloss\",\n",
        "    'objective': 'multi:softprob',  # error evaluation for multiclass training\n",
        "    'num_class': 7}  # the number of classes that exist in this datset\n",
        "num_round = 20  # the number of training iterations\n",
        "\n",
        "bst = xgb.train(param, dtrain, num_round)\n",
        "preds = bst.predict(dtest)\n",
        "\n",
        "best_preds = np.asarray([np.argmax(line) for line in preds])\n",
        "print( \"Numpy array precision:\", precision_score(y_test, best_preds, average='macro'))\n",
        "\n",
        "# dump the models\n",
        "bst.dump_model('dump.raw.txt')\n",
        "\n",
        "# save the models for later\n",
        "joblib.dump(bst, 'bst_model.pkl', compress=True)\n",
        "\n"
      ],
      "execution_count": 0,
      "outputs": [
        {
          "output_type": "stream",
          "text": [
            "Numpy array precision: 0.8885281385281385\n"
          ],
          "name": "stdout"
        },
        {
          "output_type": "stream",
          "text": [
            "/usr/local/lib/python3.6/dist-packages/sklearn/externals/joblib/__init__.py:15: FutureWarning: sklearn.externals.joblib is deprecated in 0.21 and will be removed in 0.23. Please import this functionality directly from joblib, which can be installed with: pip install joblib. If this warning is raised when loading pickled models, you may need to re-serialize those models with scikit-learn 0.21+.\n",
            "  warnings.warn(msg, category=FutureWarning)\n"
          ],
          "name": "stderr"
        },
        {
          "output_type": "execute_result",
          "data": {
            "text/plain": [
              "['bst_model.pkl']"
            ]
          },
          "metadata": {
            "tags": []
          },
          "execution_count": 36
        }
      ]
    },
    {
      "cell_type": "code",
      "metadata": {
        "id": "Zu0ys9H3vSIX",
        "colab_type": "code",
        "outputId": "e20c4dbd-e090-4c40-d948-35de0b423351",
        "colab": {
          "base_uri": "https://localhost:8080/",
          "height": 1000
        }
      },
      "source": [
        "preds"
      ],
      "execution_count": 0,
      "outputs": [
        {
          "output_type": "execute_result",
          "data": {
            "text/plain": [
              "array([[0.0026819 , 0.00665507, 0.00215399, 0.00185054, 0.97739476,\n",
              "        0.00184313, 0.00742064],\n",
              "       [0.003338  , 0.0022003 , 0.00220704, 0.9577229 , 0.00193734,\n",
              "        0.00162643, 0.03096796],\n",
              "       [0.04512477, 0.9407179 , 0.00308621, 0.0025479 , 0.00263059,\n",
              "        0.0025377 , 0.00335496],\n",
              "       [0.88756967, 0.06694333, 0.01398833, 0.00667876, 0.00689552,\n",
              "        0.00665203, 0.0112724 ],\n",
              "       [0.00422897, 0.00538417, 0.00214957, 0.00184674, 0.97538733,\n",
              "        0.00183934, 0.00916386],\n",
              "       [0.00511002, 0.0020033 , 0.00275184, 0.97833705, 0.00197904,\n",
              "        0.00166144, 0.00815735],\n",
              "       [0.00385213, 0.00200618, 0.00258496, 0.979742  , 0.00198188,\n",
              "        0.00166382, 0.00816907],\n",
              "       [0.00941122, 0.00703309, 0.00981444, 0.0063425 , 0.00752469,\n",
              "        0.00631711, 0.9535569 ],\n",
              "       [0.11525702, 0.09065296, 0.1278127 , 0.03967455, 0.04706951,\n",
              "        0.03951569, 0.54001755],\n",
              "       [0.00388933, 0.00200743, 0.00239707, 0.9803545 , 0.00198312,\n",
              "        0.00166486, 0.00770377],\n",
              "       [0.00267967, 0.00748054, 0.0021522 , 0.001849  , 0.9765826 ,\n",
              "        0.0018416 , 0.00741448],\n",
              "       [0.01959127, 0.90434974, 0.00998893, 0.00926016, 0.00956069,\n",
              "        0.00922309, 0.03802608],\n",
              "       [0.02052901, 0.01049276, 0.01180873, 0.00873716, 0.01036568,\n",
              "        0.00870217, 0.92936444],\n",
              "       [0.00268528, 0.00540206, 0.00215671, 0.00185287, 0.9786276 ,\n",
              "        0.00184545, 0.00743   ],\n",
              "       [0.03470807, 0.00160405, 0.00294806, 0.00151683, 0.00743809,\n",
              "        0.9475442 , 0.00424069],\n",
              "       [0.00960502, 0.0171064 , 0.0073439 , 0.00474593, 0.00563053,\n",
              "        0.00472693, 0.9508413 ],\n",
              "       [0.04527898, 0.92589694, 0.00566027, 0.00451907, 0.00466574,\n",
              "        0.00450098, 0.00947801],\n",
              "       [0.01218069, 0.00284348, 0.977787  , 0.00161689, 0.00166937,\n",
              "        0.00161042, 0.00229215],\n",
              "       [0.02802943, 0.80481327, 0.01480594, 0.01372574, 0.01628408,\n",
              "        0.01367078, 0.10867077],\n",
              "       [0.03371897, 0.7651934 , 0.01781132, 0.01651184, 0.01958949,\n",
              "        0.01644573, 0.13072921],\n",
              "       [0.00303624, 0.002545  , 0.00303935, 0.0015638 , 0.00766841,\n",
              "        0.97688484, 0.00526235],\n",
              "       [0.01450451, 0.00248511, 0.01634049, 0.00152699, 0.00748794,\n",
              "        0.95389503, 0.00375991],\n",
              "       [0.003092  , 0.00165635, 0.0030442 , 0.00156629, 0.00768064,\n",
              "        0.97844315, 0.00451739],\n",
              "       [0.0481482 , 0.00585099, 0.8961636 , 0.00527647, 0.00544772,\n",
              "        0.00525535, 0.03385773],\n",
              "       [0.05233746, 0.10160442, 0.03255421, 0.02796797, 0.04081364,\n",
              "        0.027856  , 0.7168663 ],\n",
              "       [0.00249267, 0.00201743, 0.00259946, 0.9852385 , 0.001993  ,\n",
              "        0.00167316, 0.00398584],\n",
              "       [0.04277709, 0.02132866, 0.75264233, 0.0187911 , 0.02386382,\n",
              "        0.01871587, 0.12188114],\n",
              "       [0.00489038, 0.00180374, 0.00209283, 0.00141638, 0.10107043,\n",
              "        0.8847951 , 0.00393117],\n",
              "       [0.0943589 , 0.8768509 , 0.01131687, 0.003633  , 0.00375091,\n",
              "        0.00361846, 0.00647099],\n",
              "       [0.00304941, 0.00316915, 0.0021616 , 0.00185708, 0.9808498 ,\n",
              "        0.00184964, 0.00706337],\n",
              "       [0.00662842, 0.00385054, 0.9777135 , 0.00218953, 0.00226059,\n",
              "        0.00218076, 0.00517663],\n",
              "       [0.052615  , 0.00241653, 0.93398255, 0.0021554 , 0.00222535,\n",
              "        0.00214677, 0.00445844],\n",
              "       [0.07136626, 0.00299396, 0.91625035, 0.00211448, 0.0021831 ,\n",
              "        0.00210601, 0.00298588],\n",
              "       [0.03884607, 0.02339864, 0.01911212, 0.01235105, 0.01465317,\n",
              "        0.0123016 , 0.8793373 ],\n",
              "       [0.17940739, 0.8061998 , 0.00351951, 0.00250237, 0.00258359,\n",
              "        0.00249235, 0.00329501],\n",
              "       [0.11015876, 0.00204442, 0.8779084 , 0.0018235 , 0.00188269,\n",
              "        0.0018162 , 0.00436601],\n",
              "       [0.96899027, 0.01013216, 0.0093131 , 0.00266458, 0.00275106,\n",
              "        0.00265391, 0.00349495],\n",
              "       [0.02046584, 0.00781119, 0.8983936 , 0.0070442 , 0.00727282,\n",
              "        0.007016  , 0.05199637],\n",
              "       [0.0022785 , 0.00184056, 0.0108292 , 0.00155126, 0.00760695,\n",
              "        0.96905553, 0.00683803],\n",
              "       [0.06956977, 0.12845829, 0.06492672, 0.05577986, 0.08139952,\n",
              "        0.05555654, 0.5443093 ],\n",
              "       [0.0043444 , 0.00285524, 0.00230434, 0.00155953, 0.00764747,\n",
              "        0.9742174 , 0.00707164],\n",
              "       [0.01520114, 0.00245218, 0.97295535, 0.00173184, 0.00178805,\n",
              "        0.00172491, 0.00414656],\n",
              "       [0.02148781, 0.00343173, 0.964598  , 0.00216016, 0.00223027,\n",
              "        0.00215151, 0.00394054],\n",
              "       [0.01913692, 0.01135424, 0.8913917 , 0.00912616, 0.00942235,\n",
              "        0.00908962, 0.05047907],\n",
              "       [0.18973248, 0.7725919 , 0.00744595, 0.00538263, 0.00555732,\n",
              "        0.00536107, 0.01392868],\n",
              "       [0.25773057, 0.5200227 , 0.08653261, 0.02608476, 0.02693133,\n",
              "        0.02598032, 0.05671768],\n",
              "       [0.02879017, 0.01553323, 0.01931954, 0.0124851 , 0.01481221,\n",
              "        0.01243511, 0.8966247 ],\n",
              "       [0.00408204, 0.00222627, 0.00236937, 0.9690263 , 0.0019602 ,\n",
              "        0.00164562, 0.01869013],\n",
              "       [0.00389466, 0.0022927 , 0.00276129, 0.9816968 , 0.00198583,\n",
              "        0.00166714, 0.00570154],\n",
              "       [0.00719612, 0.00652273, 0.00400764, 0.00344305, 0.0040848 ,\n",
              "        0.00342926, 0.9713164 ],\n",
              "       [0.00935331, 0.00870431, 0.0064922 , 0.00154052, 0.00755428,\n",
              "        0.9623452 , 0.00401025],\n",
              "       [0.2766548 , 0.0200952 , 0.60020155, 0.01619142, 0.01671691,\n",
              "        0.01612659, 0.05401352],\n",
              "       [0.10220824, 0.841517  , 0.0110037 , 0.0102009 , 0.01053197,\n",
              "        0.01016006, 0.01437813],\n",
              "       [0.00305049, 0.00206001, 0.00216237, 0.00185774, 0.98119825,\n",
              "        0.0018503 , 0.00782088],\n",
              "       [0.94434434, 0.01439206, 0.01578015, 0.00438255, 0.00452479,\n",
              "        0.00436501, 0.01221108],\n",
              "       [0.01139634, 0.01834111, 0.00684769, 0.00508849, 0.00603693,\n",
              "        0.00506811, 0.9472213 ],\n",
              "       [0.00307242, 0.00229342, 0.00300845, 0.98200434, 0.00198645,\n",
              "        0.00166766, 0.00596727],\n",
              "       [0.00286279, 0.00254923, 0.00231449, 0.00156639, 0.00768115,\n",
              "        0.97850823, 0.00451769],\n",
              "       [0.24570967, 0.3165182 , 0.06768399, 0.06274591, 0.06478231,\n",
              "        0.06249468, 0.18006524],\n",
              "       [0.00312464, 0.00561292, 0.00215731, 0.00185339, 0.97890365,\n",
              "        0.00184597, 0.00650213],\n",
              "       [0.00639176, 0.01007735, 0.00593515, 0.00441038, 0.00523244,\n",
              "        0.00439273, 0.9635602 ],\n",
              "       [0.620126  , 0.02881108, 0.26305515, 0.01804377, 0.01862938,\n",
              "        0.01797153, 0.03336304],\n",
              "       [0.0282118 , 0.00161522, 0.0029686 , 0.00152739, 0.0074899 ,\n",
              "        0.9541449 , 0.00404217]], dtype=float32)"
            ]
          },
          "metadata": {
            "tags": []
          },
          "execution_count": 38
        }
      ]
    },
    {
      "cell_type": "code",
      "metadata": {
        "id": "Nhe8RJ0tvWq5",
        "colab_type": "code",
        "colab": {}
      },
      "source": [
        ""
      ],
      "execution_count": 0,
      "outputs": []
    },
    {
      "cell_type": "code",
      "metadata": {
        "id": "WinYT18rxSpj",
        "colab_type": "code",
        "colab": {}
      },
      "source": [
        "dtest1 = xgb.DMatrix(df3[importantcols], label=y_test)"
      ],
      "execution_count": 0,
      "outputs": []
    },
    {
      "cell_type": "code",
      "metadata": {
        "id": "sXg5XnITxc2O",
        "colab_type": "code",
        "colab": {}
      },
      "source": [
        "predict2 = bst.predict(dtest1)"
      ],
      "execution_count": 0,
      "outputs": []
    },
    {
      "cell_type": "code",
      "metadata": {
        "id": "rnx_WpJ-vWuu",
        "colab_type": "code",
        "colab": {}
      },
      "source": [
        "df4  = pd.DataFrame(predict2)"
      ],
      "execution_count": 0,
      "outputs": []
    },
    {
      "cell_type": "code",
      "metadata": {
        "id": "3uamVH29vWzu",
        "colab_type": "code",
        "outputId": "e6e3cc39-1f45-4514-eaee-366e69ed1f00",
        "colab": {
          "base_uri": "https://localhost:8080/",
          "height": 197
        }
      },
      "source": [
        "df4.head()"
      ],
      "execution_count": 0,
      "outputs": [
        {
          "output_type": "execute_result",
          "data": {
            "text/html": [
              "<div>\n",
              "<style scoped>\n",
              "    .dataframe tbody tr th:only-of-type {\n",
              "        vertical-align: middle;\n",
              "    }\n",
              "\n",
              "    .dataframe tbody tr th {\n",
              "        vertical-align: top;\n",
              "    }\n",
              "\n",
              "    .dataframe thead th {\n",
              "        text-align: right;\n",
              "    }\n",
              "</style>\n",
              "<table border=\"1\" class=\"dataframe\">\n",
              "  <thead>\n",
              "    <tr style=\"text-align: right;\">\n",
              "      <th></th>\n",
              "      <th>0</th>\n",
              "      <th>1</th>\n",
              "      <th>2</th>\n",
              "      <th>3</th>\n",
              "      <th>4</th>\n",
              "      <th>5</th>\n",
              "      <th>6</th>\n",
              "    </tr>\n",
              "  </thead>\n",
              "  <tbody>\n",
              "    <tr>\n",
              "      <th>0</th>\n",
              "      <td>0.657579</td>\n",
              "      <td>0.054605</td>\n",
              "      <td>0.216313</td>\n",
              "      <td>0.014619</td>\n",
              "      <td>0.015094</td>\n",
              "      <td>0.014561</td>\n",
              "      <td>0.027229</td>\n",
              "    </tr>\n",
              "    <tr>\n",
              "      <th>1</th>\n",
              "      <td>0.002768</td>\n",
              "      <td>0.006536</td>\n",
              "      <td>0.001960</td>\n",
              "      <td>0.001817</td>\n",
              "      <td>0.959899</td>\n",
              "      <td>0.001810</td>\n",
              "      <td>0.025209</td>\n",
              "    </tr>\n",
              "    <tr>\n",
              "      <th>2</th>\n",
              "      <td>0.004713</td>\n",
              "      <td>0.002007</td>\n",
              "      <td>0.002258</td>\n",
              "      <td>0.980048</td>\n",
              "      <td>0.001982</td>\n",
              "      <td>0.001664</td>\n",
              "      <td>0.007327</td>\n",
              "    </tr>\n",
              "    <tr>\n",
              "      <th>3</th>\n",
              "      <td>0.005705</td>\n",
              "      <td>0.010807</td>\n",
              "      <td>0.959531</td>\n",
              "      <td>0.002320</td>\n",
              "      <td>0.002396</td>\n",
              "      <td>0.002311</td>\n",
              "      <td>0.016930</td>\n",
              "    </tr>\n",
              "    <tr>\n",
              "      <th>4</th>\n",
              "      <td>0.004082</td>\n",
              "      <td>0.002226</td>\n",
              "      <td>0.002369</td>\n",
              "      <td>0.969026</td>\n",
              "      <td>0.001960</td>\n",
              "      <td>0.001646</td>\n",
              "      <td>0.018690</td>\n",
              "    </tr>\n",
              "  </tbody>\n",
              "</table>\n",
              "</div>"
            ],
            "text/plain": [
              "          0         1         2         3         4         5         6\n",
              "0  0.657579  0.054605  0.216313  0.014619  0.015094  0.014561  0.027229\n",
              "1  0.002768  0.006536  0.001960  0.001817  0.959899  0.001810  0.025209\n",
              "2  0.004713  0.002007  0.002258  0.980048  0.001982  0.001664  0.007327\n",
              "3  0.005705  0.010807  0.959531  0.002320  0.002396  0.002311  0.016930\n",
              "4  0.004082  0.002226  0.002369  0.969026  0.001960  0.001646  0.018690"
            ]
          },
          "metadata": {
            "tags": []
          },
          "execution_count": 53
        }
      ]
    },
    {
      "cell_type": "code",
      "metadata": {
        "id": "NKAI_-KLzFPm",
        "colab_type": "code",
        "outputId": "254ae947-60af-4ef3-a3b2-b4a18ab83274",
        "colab": {
          "base_uri": "https://localhost:8080/",
          "height": 230
        }
      },
      "source": [
        "df4[:][0]"
      ],
      "execution_count": 0,
      "outputs": [
        {
          "output_type": "execute_result",
          "data": {
            "text/plain": [
              "0       0.657579\n",
              "1       0.002768\n",
              "2       0.004713\n",
              "3       0.005705\n",
              "4       0.004082\n",
              "          ...   \n",
              "2095    0.016847\n",
              "2096    0.074073\n",
              "2097    0.004351\n",
              "2098    0.004032\n",
              "2099    0.002690\n",
              "Name: 0, Length: 2100, dtype: float32"
            ]
          },
          "metadata": {
            "tags": []
          },
          "execution_count": 56
        }
      ]
    },
    {
      "cell_type": "code",
      "metadata": {
        "id": "CMI3TC50zIyJ",
        "colab_type": "code",
        "colab": {}
      },
      "source": [
        ""
      ],
      "execution_count": 0,
      "outputs": []
    },
    {
      "cell_type": "code",
      "metadata": {
        "id": "vEHK9_h6zFhU",
        "colab_type": "code",
        "colab": {}
      },
      "source": [
        ""
      ],
      "execution_count": 0,
      "outputs": []
    },
    {
      "cell_type": "code",
      "metadata": {
        "id": "GtBBqTcSzFu0",
        "colab_type": "code",
        "colab": {}
      },
      "source": [
        "df2['CLASS_0'] = df4[:][0]\n",
        "df2['CLASS_1'] = df4[:][1]\n",
        "df2['CLASS_2'] = df4[:][2]\n",
        "df2['CLASS_3'] = df4[:][3]\n",
        "df2['CLASS_4'] = df4[:][4]\n",
        "df2['CLASS_5'] = df4[:][5]\n",
        "df2['CLASS_6'] = df4ss[:][6]\n"
      ],
      "execution_count": 0,
      "outputs": []
    },
    {
      "cell_type": "code",
      "metadata": {
        "id": "k62Fa6MFvW6W",
        "colab_type": "code",
        "outputId": "ae43e346-872f-4254-d321-d3e143534846",
        "colab": {
          "base_uri": "https://localhost:8080/",
          "height": 197
        }
      },
      "source": [
        "df2.head()"
      ],
      "execution_count": 0,
      "outputs": [
        {
          "output_type": "execute_result",
          "data": {
            "text/html": [
              "<div>\n",
              "<style scoped>\n",
              "    .dataframe tbody tr th:only-of-type {\n",
              "        vertical-align: middle;\n",
              "    }\n",
              "\n",
              "    .dataframe tbody tr th {\n",
              "        vertical-align: top;\n",
              "    }\n",
              "\n",
              "    .dataframe thead th {\n",
              "        text-align: right;\n",
              "    }\n",
              "</style>\n",
              "<table border=\"1\" class=\"dataframe\">\n",
              "  <thead>\n",
              "    <tr style=\"text-align: right;\">\n",
              "      <th></th>\n",
              "      <th>id</th>\n",
              "      <th>CLASS_0</th>\n",
              "      <th>CLASS_1</th>\n",
              "      <th>CLASS_2</th>\n",
              "      <th>CLASS_3</th>\n",
              "      <th>CLASS_4</th>\n",
              "      <th>CLASS_5</th>\n",
              "      <th>CLASS_6</th>\n",
              "    </tr>\n",
              "  </thead>\n",
              "  <tbody>\n",
              "    <tr>\n",
              "      <th>0</th>\n",
              "      <td>0</td>\n",
              "      <td>0.657579</td>\n",
              "      <td>0.054605</td>\n",
              "      <td>0.216313</td>\n",
              "      <td>0.014619</td>\n",
              "      <td>0.015094</td>\n",
              "      <td>0.014561</td>\n",
              "      <td>0.027229</td>\n",
              "    </tr>\n",
              "    <tr>\n",
              "      <th>1</th>\n",
              "      <td>1</td>\n",
              "      <td>0.002768</td>\n",
              "      <td>0.006536</td>\n",
              "      <td>0.001960</td>\n",
              "      <td>0.001817</td>\n",
              "      <td>0.959899</td>\n",
              "      <td>0.001810</td>\n",
              "      <td>0.025209</td>\n",
              "    </tr>\n",
              "    <tr>\n",
              "      <th>2</th>\n",
              "      <td>2</td>\n",
              "      <td>0.004713</td>\n",
              "      <td>0.002007</td>\n",
              "      <td>0.002258</td>\n",
              "      <td>0.980048</td>\n",
              "      <td>0.001982</td>\n",
              "      <td>0.001664</td>\n",
              "      <td>0.007327</td>\n",
              "    </tr>\n",
              "    <tr>\n",
              "      <th>3</th>\n",
              "      <td>3</td>\n",
              "      <td>0.005705</td>\n",
              "      <td>0.010807</td>\n",
              "      <td>0.959531</td>\n",
              "      <td>0.002320</td>\n",
              "      <td>0.002396</td>\n",
              "      <td>0.002311</td>\n",
              "      <td>0.016930</td>\n",
              "    </tr>\n",
              "    <tr>\n",
              "      <th>4</th>\n",
              "      <td>4</td>\n",
              "      <td>0.004082</td>\n",
              "      <td>0.002226</td>\n",
              "      <td>0.002369</td>\n",
              "      <td>0.969026</td>\n",
              "      <td>0.001960</td>\n",
              "      <td>0.001646</td>\n",
              "      <td>0.018690</td>\n",
              "    </tr>\n",
              "  </tbody>\n",
              "</table>\n",
              "</div>"
            ],
            "text/plain": [
              "   id   CLASS_0   CLASS_1   CLASS_2   CLASS_3   CLASS_4   CLASS_5   CLASS_6\n",
              "0   0  0.657579  0.054605  0.216313  0.014619  0.015094  0.014561  0.027229\n",
              "1   1  0.002768  0.006536  0.001960  0.001817  0.959899  0.001810  0.025209\n",
              "2   2  0.004713  0.002007  0.002258  0.980048  0.001982  0.001664  0.007327\n",
              "3   3  0.005705  0.010807  0.959531  0.002320  0.002396  0.002311  0.016930\n",
              "4   4  0.004082  0.002226  0.002369  0.969026  0.001960  0.001646  0.018690"
            ]
          },
          "metadata": {
            "tags": []
          },
          "execution_count": 60
        }
      ]
    },
    {
      "cell_type": "code",
      "metadata": {
        "id": "_RGZXJ8FyjBK",
        "colab_type": "code",
        "colab": {}
      },
      "source": [
        "submission = df2"
      ],
      "execution_count": 0,
      "outputs": []
    },
    {
      "cell_type": "code",
      "metadata": {
        "id": "s1mYKMJGyjFh",
        "colab_type": "code",
        "outputId": "329f30da-cf6a-405f-f220-acab12b83fb7",
        "colab": {
          "base_uri": "https://localhost:8080/",
          "height": 197
        }
      },
      "source": [
        "submission.tail()"
      ],
      "execution_count": 0,
      "outputs": [
        {
          "output_type": "execute_result",
          "data": {
            "text/html": [
              "<div>\n",
              "<style scoped>\n",
              "    .dataframe tbody tr th:only-of-type {\n",
              "        vertical-align: middle;\n",
              "    }\n",
              "\n",
              "    .dataframe tbody tr th {\n",
              "        vertical-align: top;\n",
              "    }\n",
              "\n",
              "    .dataframe thead th {\n",
              "        text-align: right;\n",
              "    }\n",
              "</style>\n",
              "<table border=\"1\" class=\"dataframe\">\n",
              "  <thead>\n",
              "    <tr style=\"text-align: right;\">\n",
              "      <th></th>\n",
              "      <th>id</th>\n",
              "      <th>CLASS_0</th>\n",
              "      <th>CLASS_1</th>\n",
              "      <th>CLASS_2</th>\n",
              "      <th>CLASS_3</th>\n",
              "      <th>CLASS_4</th>\n",
              "      <th>CLASS_5</th>\n",
              "      <th>CLASS_6</th>\n",
              "    </tr>\n",
              "  </thead>\n",
              "  <tbody>\n",
              "    <tr>\n",
              "      <th>2095</th>\n",
              "      <td>2095</td>\n",
              "      <td>0.016847</td>\n",
              "      <td>0.003253</td>\n",
              "      <td>0.955206</td>\n",
              "      <td>0.002615</td>\n",
              "      <td>0.002699</td>\n",
              "      <td>0.002604</td>\n",
              "      <td>0.016777</td>\n",
              "    </tr>\n",
              "    <tr>\n",
              "      <th>2096</th>\n",
              "      <td>2096</td>\n",
              "      <td>0.074073</td>\n",
              "      <td>0.007129</td>\n",
              "      <td>0.010277</td>\n",
              "      <td>0.005094</td>\n",
              "      <td>0.006043</td>\n",
              "      <td>0.005073</td>\n",
              "      <td>0.892311</td>\n",
              "    </tr>\n",
              "    <tr>\n",
              "      <th>2097</th>\n",
              "      <td>2097</td>\n",
              "      <td>0.004351</td>\n",
              "      <td>0.001862</td>\n",
              "      <td>0.003128</td>\n",
              "      <td>0.909266</td>\n",
              "      <td>0.001839</td>\n",
              "      <td>0.001544</td>\n",
              "      <td>0.078010</td>\n",
              "    </tr>\n",
              "    <tr>\n",
              "      <th>2098</th>\n",
              "      <td>2098</td>\n",
              "      <td>0.004032</td>\n",
              "      <td>0.001653</td>\n",
              "      <td>0.002310</td>\n",
              "      <td>0.001563</td>\n",
              "      <td>0.009160</td>\n",
              "      <td>0.976640</td>\n",
              "      <td>0.004641</td>\n",
              "    </tr>\n",
              "    <tr>\n",
              "      <th>2099</th>\n",
              "      <td>2099</td>\n",
              "      <td>0.002690</td>\n",
              "      <td>0.003563</td>\n",
              "      <td>0.002160</td>\n",
              "      <td>0.001856</td>\n",
              "      <td>0.980186</td>\n",
              "      <td>0.001848</td>\n",
              "      <td>0.007697</td>\n",
              "    </tr>\n",
              "  </tbody>\n",
              "</table>\n",
              "</div>"
            ],
            "text/plain": [
              "        id   CLASS_0   CLASS_1  ...   CLASS_4   CLASS_5   CLASS_6\n",
              "2095  2095  0.016847  0.003253  ...  0.002699  0.002604  0.016777\n",
              "2096  2096  0.074073  0.007129  ...  0.006043  0.005073  0.892311\n",
              "2097  2097  0.004351  0.001862  ...  0.001839  0.001544  0.078010\n",
              "2098  2098  0.004032  0.001653  ...  0.009160  0.976640  0.004641\n",
              "2099  2099  0.002690  0.003563  ...  0.980186  0.001848  0.007697\n",
              "\n",
              "[5 rows x 8 columns]"
            ]
          },
          "metadata": {
            "tags": []
          },
          "execution_count": 62
        }
      ]
    },
    {
      "cell_type": "code",
      "metadata": {
        "id": "blWIuv5LyjU6",
        "colab_type": "code",
        "colab": {}
      },
      "source": [
        "submission.to_csv('submission.csv',index=False)"
      ],
      "execution_count": 0,
      "outputs": []
    },
    {
      "cell_type": "markdown",
      "metadata": {
        "id": "i0oXGH873Fzk",
        "colab_type": "text"
      },
      "source": [
        "# New Section"
      ]
    },
    {
      "cell_type": "code",
      "metadata": {
        "id": "UvFLBwTFyjYh",
        "colab_type": "code",
        "colab": {}
      },
      "source": [
        ""
      ],
      "execution_count": 0,
      "outputs": []
    },
    {
      "cell_type": "code",
      "metadata": {
        "id": "cdeGAC81yjbx",
        "colab_type": "code",
        "colab": {}
      },
      "source": [
        ""
      ],
      "execution_count": 0,
      "outputs": []
    },
    {
      "cell_type": "code",
      "metadata": {
        "id": "ih7QvXyIyjfC",
        "colab_type": "code",
        "colab": {}
      },
      "source": [
        ""
      ],
      "execution_count": 0,
      "outputs": []
    },
    {
      "cell_type": "code",
      "metadata": {
        "id": "FiYXcHbIyjis",
        "colab_type": "code",
        "colab": {}
      },
      "source": [
        ""
      ],
      "execution_count": 0,
      "outputs": []
    },
    {
      "cell_type": "code",
      "metadata": {
        "id": "Xp9RP1QNyjms",
        "colab_type": "code",
        "colab": {}
      },
      "source": [
        ""
      ],
      "execution_count": 0,
      "outputs": []
    },
    {
      "cell_type": "code",
      "metadata": {
        "id": "IscQ_cOovW_g",
        "colab_type": "code",
        "colab": {}
      },
      "source": [
        ""
      ],
      "execution_count": 0,
      "outputs": []
    },
    {
      "cell_type": "code",
      "metadata": {
        "id": "HzmGcqIFL3wr",
        "colab_type": "code",
        "colab": {}
      },
      "source": [
        "import numpy as np\n",
        "import xgboost as xgb\n",
        "from sklearn.cross_validation import train_test_split\n",
        "from sklearn.datasets import dump_svmlight_file\n",
        "from sklearn.externals import joblib\n",
        "from sklearn.metrics import precision_score\n",
        "\n",
        "\n",
        "\n",
        "X_train, X_test, y_train, y_test = train_test_split(X, y, test_size=0.2, random_state=42)\n",
        "\n",
        "# use DMatrix for xgbosot\n",
        "dtrain = xgb.DMatrix(X_train, label=y_train)\n",
        "dtest = xgb.DMatrix(X_test, label=y_test)\n",
        "\n",
        "# use svmlight file for xgboost\n",
        "dump_svmlight_file(X_train, y_train, 'dtrain.svm', zero_based=True)\n",
        "dump_svmlight_file(X_test, y_test, 'dtest.svm', zero_based=True)\n",
        "dtrain_svm = xgb.DMatrix('dtrain.svm')\n",
        "dtest_svm = xgb.DMatrix('dtest.svm')\n",
        "\n",
        "# set xgboost params\n",
        "param = {\n",
        "    'max_depth': 3,  # the maximum depth of each tree\n",
        "    'eta': 0.3,  # the training step for each iteration\n",
        "    'silent': 1,  # logging mode - quiet\n",
        "    'objective': 'multi:softprob',  # error evaluation for multiclass training\n",
        "    'num_class': 3}  # the number of classes that exist in this datset\n",
        "num_round = 20  # the number of training iterations\n",
        "\n",
        "#------------- numpy array ------------------\n",
        "# training and testing - numpy matrices\n",
        "bst = xgb.train(param, dtrain, num_round)\n",
        "preds = bst.predict(dtest)\n",
        "\n",
        "# extracting most confident predictions\n",
        "best_preds = np.asarray([np.argmax(line) for line in preds])\n",
        "print \"Numpy array precision:\", precision_score(y_test, best_preds, average='macro')\n",
        "\n",
        "# ------------- svm file ---------------------\n",
        "# training and testing - svm file\n",
        "bst_svm = xgb.train(param, dtrain_svm, num_round)\n",
        "preds = bst.predict(dtest_svm)\n",
        "\n",
        "# extracting most confident predictions\n",
        "best_preds_svm = [np.argmax(line) for line in preds]\n",
        "print \"Svm file precision:\",precision_score(y_test, best_preds_svm, average='macro')\n",
        "# --------------------------------------------\n",
        "\n",
        "# dump the models\n",
        "bst.dump_model('dump.raw.txt')\n",
        "bst_svm.dump_model('dump_svm.raw.txt')\n",
        "\n",
        "\n",
        "# save the models for later\n",
        "joblib.dump(bst, 'bst_model.pkl', compress=True)\n",
        "joblib.dump(bst_svm, 'bst_svm_model.pkl', compress=True)"
      ],
      "execution_count": 0,
      "outputs": []
    }
  ]
}